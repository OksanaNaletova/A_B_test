{
 "cells": [
  {
   "cell_type": "markdown",
   "metadata": {},
   "source": [
    "<div style=\"border:solid purple 2px; padding: 20px\"> \n",
    "\n",
    "**Привет, Оксана!**\n",
    "\n",
    "Меня зовут Мария Новожилова и я буду делать ревью твоей проектной работы по теме \"Принятие решений в бизнесе\". Давай будем общаться на **«ты»**. Если это неприемлемо, обязательно напиши мне в комментариях — мы перейдем на **«вы»**.\n",
    "\n",
    "<div class=\"alert alert-danger\">\n",
    "<b>Комментарий ревьюера ❌:</b> Так я выделяю те комментарии, на которые нужно обратить внимание в первую очередь. После их доработки проект будет принят. </div>\n",
    "\n",
    "<div class=\"alert alert-success\">\n",
    "<b>Комментарий ревьюера ✔️:</b> Зеленым цветом отмечены удачные и элегантные решения, на которые можно опираться в будущих проектах.</div>\n",
    "\n",
    "<div class=\"alert alert-warning\">\n",
    "<b>Комментарий ревьюера ⚠️:</b> Оранжевым цветом выделено то, что в следующий раз можно сделать по-другому. Ты можешь учесть эти комментарии при выполнении будущих заданий или доработать проект сейчас (однако это не обязательно).</div>\n",
    "    \n",
    "Давай работать над проектом в диалоге: если ты **что-то меняешь** в проекте по моим рекомендациям — **пиши об этом**. Выбери для своих комментариев какой-то заметный цвет.\n",
    "\n",
    "<div class=\"alert alert-info\">\n",
    "<b>Комментарий студента:</b> Например, такой.</div>   \n",
    "    \n",
    "Так мне будет легче отследить изменения. Пожалуйста, **не перемещай, не изменяй и не удаляй мои комментарии**. Всё это поможет выполнить повторную проверку твоего проекта оперативнее»."
   ]
  },
  {
   "cell_type": "markdown",
   "metadata": {},
   "source": [
    "<div class=\"alert alert-success\">\n",
    "<b>2V Комментарий ревьюера ✔️✔️:</b> 😺 Привет! Новые комментарии отмечены 2V. "
   ]
  },
  {
   "cell_type": "markdown",
   "metadata": {},
   "source": [
    "# А/В тест в интернет-магазине и анализ теста\n",
    "\n",
    "**Цель:** Приоритизировать гипотезы, запустить A/B-тест и проанализировать результаты.\n",
    "\n",
    "**План:**\n",
    "1. Выгрузка и подготовка данных\n",
    "2. Приоритезация гипотез\n",
    "3. Анализ A/B-теста\n",
    "4. Выводы\n",
    "\n",
    "**Описание данных:**\n",
    "\n",
    "1.Данные для первой части\n",
    "\n",
    "Файл /datasets/hypothesis.csv. \n",
    "\n",
    "•\tHypothesis — краткое описание гипотезы; \n",
    "•\tReach — охват пользователей по 10-балльной шкале; \n",
    "•\tImpact — влияние на пользователей по 10-балльной шкале; \n",
    "•\tConfidence — уверенность в гипотезе по 10-балльной шкале; \n",
    "•\tEfforts — затраты ресурсов на проверку гипотезы по 10-балльной шкале. Чем больше значение Efforts, тем дороже проверка гипотезы.\n",
    "\n",
    "\n",
    "2.Данные для второй части\n",
    "\n",
    "Файл /datasets/orders.csv.\n",
    "\n",
    "•\ttransactionId — идентификатор заказа;\n",
    "•\tvisitorId — идентификатор пользователя, совершившего заказ;\n",
    "•\tdate — дата, когда был совершён заказ;\n",
    "•\trevenue — выручка заказа;\n",
    "•\tgroup — группа A/B-теста, в которую попал заказ.\n",
    "\n",
    "Файл /datasets/visitors.csv.\n",
    "\n",
    "•\tdate — дата;\n",
    "•\tgroup — группа A/B-теста;\n",
    "•\tvisitors — количество пользователей в указанную дату в указанной группе A/B-теста\n"
   ]
  },
  {
   "cell_type": "markdown",
   "metadata": {},
   "source": [
    "<div class=\"alert alert-success\">\n",
    "<b>Комментарий ревьюера ✔️:</b> Хорошая практика начинать проект с описания контекста и задачи."
   ]
  },
  {
   "cell_type": "markdown",
   "metadata": {},
   "source": [
    "## Подготовка данных"
   ]
  },
  {
   "cell_type": "code",
   "execution_count": 1,
   "metadata": {},
   "outputs": [
    {
     "data": {
      "text/html": [
       "        <script type=\"text/javascript\">\n",
       "        window.PlotlyConfig = {MathJaxConfig: 'local'};\n",
       "        if (window.MathJax) {MathJax.Hub.Config({SVG: {font: \"STIX-Web\"}});}\n",
       "        if (typeof require !== 'undefined') {\n",
       "        require.undef(\"plotly\");\n",
       "        requirejs.config({\n",
       "            paths: {\n",
       "                'plotly': ['https://cdn.plot.ly/plotly-2.6.3.min']\n",
       "            }\n",
       "        });\n",
       "        require(['plotly'], function(Plotly) {\n",
       "            window._Plotly = Plotly;\n",
       "        });\n",
       "        }\n",
       "        </script>\n",
       "        "
      ]
     },
     "metadata": {},
     "output_type": "display_data"
    }
   ],
   "source": [
    "import pandas as pd\n",
    "import matplotlib.pyplot as plt\n",
    "import seaborn as sns\n",
    "import matplotlib.ticker as ticker\n",
    "import numpy as np\n",
    "import datetime as dt\n",
    "\n",
    "from scipy import stats as st\n",
    "from datetime import datetime, timedelta\n",
    "from plotly.offline import download_plotlyjs, init_notebook_mode, plot, iplot\n",
    "import plotly\n",
    "import plotly.graph_objs as go\n",
    "\n",
    "init_notebook_mode(connected=True)"
   ]
  },
  {
   "cell_type": "code",
   "execution_count": 2,
   "metadata": {},
   "outputs": [],
   "source": [
    "# код для отображения 200 столбцов в датасетах\n",
    "pd.options.display.max_columns = 200"
   ]
  },
  {
   "cell_type": "code",
   "execution_count": 3,
   "metadata": {},
   "outputs": [],
   "source": [
    "# отображение строчек без усечений\n",
    "pd.options.display.max_colwidth = 150"
   ]
  },
  {
   "cell_type": "markdown",
   "metadata": {},
   "source": [
    "<div class=\"alert alert-warning\">\n",
    "<b>Комментарий ревьюера ⚠️:</b> чтобы не было предупреждения, можно использовать такой код:\n",
    "\n",
    "    pd.options.display.max_colwidth = 150"
   ]
  },
  {
   "cell_type": "markdown",
   "metadata": {},
   "source": [
    "<div class=\"alert alert-info\">\n",
    "<b>Комментарий студента:</b> Привет, спасибо за наводку.</div> "
   ]
  },
  {
   "cell_type": "markdown",
   "metadata": {},
   "source": [
    "<div class=\"alert alert-success\">\n",
    "<b>2V Комментарий ревьюера ✔️✔️:</b> 😺 🤝"
   ]
  },
  {
   "cell_type": "code",
   "execution_count": 4,
   "metadata": {},
   "outputs": [],
   "source": [
    "hypothesis = pd.read_csv('/datasets/hypothesis.csv')\n",
    "orders = pd.read_csv('/datasets/orders.csv')\n",
    "visitors = pd.read_csv('/datasets/visitors.csv')"
   ]
  },
  {
   "cell_type": "markdown",
   "metadata": {},
   "source": [
    "<div class=\"alert alert-success\">\n",
    "<b>Комментарий ревьюера ✔️:</b> Библиотеки и данные успешно загружены."
   ]
  },
  {
   "cell_type": "code",
   "execution_count": 5,
   "metadata": {},
   "outputs": [
    {
     "name": "stdout",
     "output_type": "stream",
     "text": [
      "<class 'pandas.core.frame.DataFrame'>\n",
      "RangeIndex: 9 entries, 0 to 8\n",
      "Data columns (total 5 columns):\n",
      " #   Column      Non-Null Count  Dtype \n",
      "---  ------      --------------  ----- \n",
      " 0   Hypothesis  9 non-null      object\n",
      " 1   Reach       9 non-null      int64 \n",
      " 2   Impact      9 non-null      int64 \n",
      " 3   Confidence  9 non-null      int64 \n",
      " 4   Efforts     9 non-null      int64 \n",
      "dtypes: int64(4), object(1)\n",
      "memory usage: 488.0+ bytes\n"
     ]
    }
   ],
   "source": [
    "hypothesis.info()"
   ]
  },
  {
   "cell_type": "code",
   "execution_count": 6,
   "metadata": {},
   "outputs": [],
   "source": [
    "# наименование колонок приведем к нижнему регистру\n",
    "hypothesis.columns= hypothesis.columns.str.lower()"
   ]
  },
  {
   "cell_type": "markdown",
   "metadata": {},
   "source": [
    "<div class=\"alert alert-success\">\n",
    "<b>Комментарий ревьюера ✔️:</b> 👍 </div>"
   ]
  },
  {
   "cell_type": "code",
   "execution_count": 7,
   "metadata": {},
   "outputs": [
    {
     "data": {
      "text/html": [
       "<div>\n",
       "<style scoped>\n",
       "    .dataframe tbody tr th:only-of-type {\n",
       "        vertical-align: middle;\n",
       "    }\n",
       "\n",
       "    .dataframe tbody tr th {\n",
       "        vertical-align: top;\n",
       "    }\n",
       "\n",
       "    .dataframe thead th {\n",
       "        text-align: right;\n",
       "    }\n",
       "</style>\n",
       "<table border=\"1\" class=\"dataframe\">\n",
       "  <thead>\n",
       "    <tr style=\"text-align: right;\">\n",
       "      <th></th>\n",
       "      <th>hypothesis</th>\n",
       "      <th>reach</th>\n",
       "      <th>impact</th>\n",
       "      <th>confidence</th>\n",
       "      <th>efforts</th>\n",
       "    </tr>\n",
       "  </thead>\n",
       "  <tbody>\n",
       "    <tr>\n",
       "      <th>0</th>\n",
       "      <td>Добавить два новых канала привлечения трафика, что позволит привлекать на 30% больше пользователей</td>\n",
       "      <td>3</td>\n",
       "      <td>10</td>\n",
       "      <td>8</td>\n",
       "      <td>6</td>\n",
       "    </tr>\n",
       "    <tr>\n",
       "      <th>1</th>\n",
       "      <td>Запустить собственную службу доставки, что сократит срок доставки заказов</td>\n",
       "      <td>2</td>\n",
       "      <td>5</td>\n",
       "      <td>4</td>\n",
       "      <td>10</td>\n",
       "    </tr>\n",
       "    <tr>\n",
       "      <th>2</th>\n",
       "      <td>Добавить блоки рекомендаций товаров на сайт интернет магазина, чтобы повысить конверсию и средний чек заказа</td>\n",
       "      <td>8</td>\n",
       "      <td>3</td>\n",
       "      <td>7</td>\n",
       "      <td>3</td>\n",
       "    </tr>\n",
       "    <tr>\n",
       "      <th>3</th>\n",
       "      <td>Изменить структура категорий, что увеличит конверсию, т.к. пользователи быстрее найдут нужный товар</td>\n",
       "      <td>8</td>\n",
       "      <td>3</td>\n",
       "      <td>3</td>\n",
       "      <td>8</td>\n",
       "    </tr>\n",
       "    <tr>\n",
       "      <th>4</th>\n",
       "      <td>Изменить цвет фона главной страницы, чтобы увеличить вовлеченность пользователей</td>\n",
       "      <td>3</td>\n",
       "      <td>1</td>\n",
       "      <td>1</td>\n",
       "      <td>1</td>\n",
       "    </tr>\n",
       "    <tr>\n",
       "      <th>5</th>\n",
       "      <td>Добавить страницу отзывов клиентов о магазине, что позволит увеличить количество заказов</td>\n",
       "      <td>3</td>\n",
       "      <td>2</td>\n",
       "      <td>2</td>\n",
       "      <td>3</td>\n",
       "    </tr>\n",
       "    <tr>\n",
       "      <th>6</th>\n",
       "      <td>Показать на главной странице баннеры с актуальными акциями и распродажами, чтобы увеличить конверсию</td>\n",
       "      <td>5</td>\n",
       "      <td>3</td>\n",
       "      <td>8</td>\n",
       "      <td>3</td>\n",
       "    </tr>\n",
       "    <tr>\n",
       "      <th>7</th>\n",
       "      <td>Добавить форму подписки на все основные страницы, чтобы собрать базу клиентов для email-рассылок</td>\n",
       "      <td>10</td>\n",
       "      <td>7</td>\n",
       "      <td>8</td>\n",
       "      <td>5</td>\n",
       "    </tr>\n",
       "    <tr>\n",
       "      <th>8</th>\n",
       "      <td>Запустить акцию, дающую скидку на товар в день рождения</td>\n",
       "      <td>1</td>\n",
       "      <td>9</td>\n",
       "      <td>9</td>\n",
       "      <td>5</td>\n",
       "    </tr>\n",
       "  </tbody>\n",
       "</table>\n",
       "</div>"
      ],
      "text/plain": [
       "                                                                                                     hypothesis  \\\n",
       "0            Добавить два новых канала привлечения трафика, что позволит привлекать на 30% больше пользователей   \n",
       "1                                     Запустить собственную службу доставки, что сократит срок доставки заказов   \n",
       "2  Добавить блоки рекомендаций товаров на сайт интернет магазина, чтобы повысить конверсию и средний чек заказа   \n",
       "3           Изменить структура категорий, что увеличит конверсию, т.к. пользователи быстрее найдут нужный товар   \n",
       "4                              Изменить цвет фона главной страницы, чтобы увеличить вовлеченность пользователей   \n",
       "5                      Добавить страницу отзывов клиентов о магазине, что позволит увеличить количество заказов   \n",
       "6          Показать на главной странице баннеры с актуальными акциями и распродажами, чтобы увеличить конверсию   \n",
       "7              Добавить форму подписки на все основные страницы, чтобы собрать базу клиентов для email-рассылок   \n",
       "8                                                       Запустить акцию, дающую скидку на товар в день рождения   \n",
       "\n",
       "   reach  impact  confidence  efforts  \n",
       "0      3      10           8        6  \n",
       "1      2       5           4       10  \n",
       "2      8       3           7        3  \n",
       "3      8       3           3        8  \n",
       "4      3       1           1        1  \n",
       "5      3       2           2        3  \n",
       "6      5       3           8        3  \n",
       "7     10       7           8        5  \n",
       "8      1       9           9        5  "
      ]
     },
     "execution_count": 7,
     "metadata": {},
     "output_type": "execute_result"
    }
   ],
   "source": [
    "hypothesis"
   ]
  },
  {
   "cell_type": "code",
   "execution_count": 8,
   "metadata": {},
   "outputs": [
    {
     "name": "stdout",
     "output_type": "stream",
     "text": [
      "<class 'pandas.core.frame.DataFrame'>\n",
      "RangeIndex: 1197 entries, 0 to 1196\n",
      "Data columns (total 5 columns):\n",
      " #   Column         Non-Null Count  Dtype \n",
      "---  ------         --------------  ----- \n",
      " 0   transactionId  1197 non-null   int64 \n",
      " 1   visitorId      1197 non-null   int64 \n",
      " 2   date           1197 non-null   object\n",
      " 3   revenue        1197 non-null   int64 \n",
      " 4   group          1197 non-null   object\n",
      "dtypes: int64(3), object(2)\n",
      "memory usage: 46.9+ KB\n"
     ]
    }
   ],
   "source": [
    "orders.info()"
   ]
  },
  {
   "cell_type": "code",
   "execution_count": 9,
   "metadata": {},
   "outputs": [
    {
     "data": {
      "text/html": [
       "<div>\n",
       "<style scoped>\n",
       "    .dataframe tbody tr th:only-of-type {\n",
       "        vertical-align: middle;\n",
       "    }\n",
       "\n",
       "    .dataframe tbody tr th {\n",
       "        vertical-align: top;\n",
       "    }\n",
       "\n",
       "    .dataframe thead th {\n",
       "        text-align: right;\n",
       "    }\n",
       "</style>\n",
       "<table border=\"1\" class=\"dataframe\">\n",
       "  <thead>\n",
       "    <tr style=\"text-align: right;\">\n",
       "      <th></th>\n",
       "      <th>transaction_id</th>\n",
       "      <th>visitor_id</th>\n",
       "      <th>date</th>\n",
       "      <th>revenue</th>\n",
       "      <th>group</th>\n",
       "    </tr>\n",
       "  </thead>\n",
       "  <tbody>\n",
       "    <tr>\n",
       "      <th>0</th>\n",
       "      <td>3667963787</td>\n",
       "      <td>3312258926</td>\n",
       "      <td>2019-08-15</td>\n",
       "      <td>1650</td>\n",
       "      <td>B</td>\n",
       "    </tr>\n",
       "    <tr>\n",
       "      <th>1</th>\n",
       "      <td>2804400009</td>\n",
       "      <td>3642806036</td>\n",
       "      <td>2019-08-15</td>\n",
       "      <td>730</td>\n",
       "      <td>B</td>\n",
       "    </tr>\n",
       "    <tr>\n",
       "      <th>2</th>\n",
       "      <td>2961555356</td>\n",
       "      <td>4069496402</td>\n",
       "      <td>2019-08-15</td>\n",
       "      <td>400</td>\n",
       "      <td>A</td>\n",
       "    </tr>\n",
       "    <tr>\n",
       "      <th>3</th>\n",
       "      <td>3797467345</td>\n",
       "      <td>1196621759</td>\n",
       "      <td>2019-08-15</td>\n",
       "      <td>9759</td>\n",
       "      <td>B</td>\n",
       "    </tr>\n",
       "    <tr>\n",
       "      <th>4</th>\n",
       "      <td>2282983706</td>\n",
       "      <td>2322279887</td>\n",
       "      <td>2019-08-15</td>\n",
       "      <td>2308</td>\n",
       "      <td>B</td>\n",
       "    </tr>\n",
       "    <tr>\n",
       "      <th>...</th>\n",
       "      <td>...</td>\n",
       "      <td>...</td>\n",
       "      <td>...</td>\n",
       "      <td>...</td>\n",
       "      <td>...</td>\n",
       "    </tr>\n",
       "    <tr>\n",
       "      <th>1192</th>\n",
       "      <td>2662137336</td>\n",
       "      <td>3733762160</td>\n",
       "      <td>2019-08-14</td>\n",
       "      <td>6490</td>\n",
       "      <td>B</td>\n",
       "    </tr>\n",
       "    <tr>\n",
       "      <th>1193</th>\n",
       "      <td>2203539145</td>\n",
       "      <td>370388673</td>\n",
       "      <td>2019-08-14</td>\n",
       "      <td>3190</td>\n",
       "      <td>A</td>\n",
       "    </tr>\n",
       "    <tr>\n",
       "      <th>1194</th>\n",
       "      <td>1807773912</td>\n",
       "      <td>573423106</td>\n",
       "      <td>2019-08-14</td>\n",
       "      <td>10550</td>\n",
       "      <td>A</td>\n",
       "    </tr>\n",
       "    <tr>\n",
       "      <th>1195</th>\n",
       "      <td>1947021204</td>\n",
       "      <td>1614305549</td>\n",
       "      <td>2019-08-14</td>\n",
       "      <td>100</td>\n",
       "      <td>A</td>\n",
       "    </tr>\n",
       "    <tr>\n",
       "      <th>1196</th>\n",
       "      <td>3936777065</td>\n",
       "      <td>2108080724</td>\n",
       "      <td>2019-08-15</td>\n",
       "      <td>202740</td>\n",
       "      <td>B</td>\n",
       "    </tr>\n",
       "  </tbody>\n",
       "</table>\n",
       "<p>1197 rows × 5 columns</p>\n",
       "</div>"
      ],
      "text/plain": [
       "      transaction_id  visitor_id        date  revenue group\n",
       "0         3667963787  3312258926  2019-08-15     1650     B\n",
       "1         2804400009  3642806036  2019-08-15      730     B\n",
       "2         2961555356  4069496402  2019-08-15      400     A\n",
       "3         3797467345  1196621759  2019-08-15     9759     B\n",
       "4         2282983706  2322279887  2019-08-15     2308     B\n",
       "...              ...         ...         ...      ...   ...\n",
       "1192      2662137336  3733762160  2019-08-14     6490     B\n",
       "1193      2203539145   370388673  2019-08-14     3190     A\n",
       "1194      1807773912   573423106  2019-08-14    10550     A\n",
       "1195      1947021204  1614305549  2019-08-14      100     A\n",
       "1196      3936777065  2108080724  2019-08-15   202740     B\n",
       "\n",
       "[1197 rows x 5 columns]"
      ]
     },
     "execution_count": 9,
     "metadata": {},
     "output_type": "execute_result"
    }
   ],
   "source": [
    "# переименуем назания столбцов\n",
    "orders = orders.rename(columns = {'transactionId': 'transaction_id', 'visitorId': 'visitor_id'})\n",
    "orders"
   ]
  },
  {
   "cell_type": "code",
   "execution_count": 10,
   "metadata": {},
   "outputs": [
    {
     "data": {
      "text/plain": [
       "0"
      ]
     },
     "execution_count": 10,
     "metadata": {},
     "output_type": "execute_result"
    }
   ],
   "source": [
    "# проверка на дубликаты\n",
    "orders.duplicated().sum()"
   ]
  },
  {
   "cell_type": "markdown",
   "metadata": {},
   "source": [
    "<div class=\"alert alert-success\">\n",
    "<b>Комментарий ревьюера ✔️:</b> 👍 </div>"
   ]
  },
  {
   "cell_type": "code",
   "execution_count": 11,
   "metadata": {},
   "outputs": [
    {
     "name": "stdout",
     "output_type": "stream",
     "text": [
      "<class 'pandas.core.frame.DataFrame'>\n",
      "RangeIndex: 62 entries, 0 to 61\n",
      "Data columns (total 3 columns):\n",
      " #   Column    Non-Null Count  Dtype \n",
      "---  ------    --------------  ----- \n",
      " 0   date      62 non-null     object\n",
      " 1   group     62 non-null     object\n",
      " 2   visitors  62 non-null     int64 \n",
      "dtypes: int64(1), object(2)\n",
      "memory usage: 1.6+ KB\n"
     ]
    }
   ],
   "source": [
    "visitors.info()"
   ]
  },
  {
   "cell_type": "code",
   "execution_count": 12,
   "metadata": {},
   "outputs": [
    {
     "data": {
      "text/html": [
       "<div>\n",
       "<style scoped>\n",
       "    .dataframe tbody tr th:only-of-type {\n",
       "        vertical-align: middle;\n",
       "    }\n",
       "\n",
       "    .dataframe tbody tr th {\n",
       "        vertical-align: top;\n",
       "    }\n",
       "\n",
       "    .dataframe thead th {\n",
       "        text-align: right;\n",
       "    }\n",
       "</style>\n",
       "<table border=\"1\" class=\"dataframe\">\n",
       "  <thead>\n",
       "    <tr style=\"text-align: right;\">\n",
       "      <th></th>\n",
       "      <th>date</th>\n",
       "      <th>group</th>\n",
       "      <th>visitors</th>\n",
       "    </tr>\n",
       "  </thead>\n",
       "  <tbody>\n",
       "    <tr>\n",
       "      <th>0</th>\n",
       "      <td>2019-08-01</td>\n",
       "      <td>A</td>\n",
       "      <td>719</td>\n",
       "    </tr>\n",
       "    <tr>\n",
       "      <th>1</th>\n",
       "      <td>2019-08-02</td>\n",
       "      <td>A</td>\n",
       "      <td>619</td>\n",
       "    </tr>\n",
       "    <tr>\n",
       "      <th>2</th>\n",
       "      <td>2019-08-03</td>\n",
       "      <td>A</td>\n",
       "      <td>507</td>\n",
       "    </tr>\n",
       "    <tr>\n",
       "      <th>3</th>\n",
       "      <td>2019-08-04</td>\n",
       "      <td>A</td>\n",
       "      <td>717</td>\n",
       "    </tr>\n",
       "    <tr>\n",
       "      <th>4</th>\n",
       "      <td>2019-08-05</td>\n",
       "      <td>A</td>\n",
       "      <td>756</td>\n",
       "    </tr>\n",
       "  </tbody>\n",
       "</table>\n",
       "</div>"
      ],
      "text/plain": [
       "         date group  visitors\n",
       "0  2019-08-01     A       719\n",
       "1  2019-08-02     A       619\n",
       "2  2019-08-03     A       507\n",
       "3  2019-08-04     A       717\n",
       "4  2019-08-05     A       756"
      ]
     },
     "execution_count": 12,
     "metadata": {},
     "output_type": "execute_result"
    }
   ],
   "source": [
    "visitors.head()"
   ]
  },
  {
   "cell_type": "code",
   "execution_count": 13,
   "metadata": {},
   "outputs": [
    {
     "data": {
      "text/plain": [
       "0"
      ]
     },
     "execution_count": 13,
     "metadata": {},
     "output_type": "execute_result"
    }
   ],
   "source": [
    "visitors.duplicated().sum()"
   ]
  },
  {
   "cell_type": "code",
   "execution_count": 14,
   "metadata": {},
   "outputs": [],
   "source": [
    "# приводим данные к необходимому формату\n",
    "visitors['date'] = visitors['date'].map(lambda x: dt.datetime.strptime(x, '%Y-%m-%d')) \n",
    "\n",
    "orders['date'] = orders['date'].map(lambda x: dt.datetime.strptime(x, '%Y-%m-%d'))"
   ]
  },
  {
   "cell_type": "markdown",
   "metadata": {},
   "source": [
    "**Вывод:** \n",
    "Выгрузили 3 датасета, проверили на дубликаты, переименовали названия колонок для удобства, преобразовали тип данных, где это было необходимо. Пропусков не обнаружено. "
   ]
  },
  {
   "cell_type": "markdown",
   "metadata": {},
   "source": [
    "<div class=\"alert alert-success\">\n",
    "<b>Комментарий ревьюера ✔️:</b> 👍 всё верно </div> "
   ]
  },
  {
   "cell_type": "markdown",
   "metadata": {},
   "source": [
    "## Приоритизация гипотез."
   ]
  },
  {
   "cell_type": "code",
   "execution_count": 15,
   "metadata": {},
   "outputs": [
    {
     "data": {
      "text/html": [
       "<div>\n",
       "<style scoped>\n",
       "    .dataframe tbody tr th:only-of-type {\n",
       "        vertical-align: middle;\n",
       "    }\n",
       "\n",
       "    .dataframe tbody tr th {\n",
       "        vertical-align: top;\n",
       "    }\n",
       "\n",
       "    .dataframe thead th {\n",
       "        text-align: right;\n",
       "    }\n",
       "</style>\n",
       "<table border=\"1\" class=\"dataframe\">\n",
       "  <thead>\n",
       "    <tr style=\"text-align: right;\">\n",
       "      <th></th>\n",
       "      <th>hypothesis</th>\n",
       "      <th>ICE</th>\n",
       "    </tr>\n",
       "  </thead>\n",
       "  <tbody>\n",
       "    <tr>\n",
       "      <th>8</th>\n",
       "      <td>Запустить акцию, дающую скидку на товар в день рождения</td>\n",
       "      <td>16.200000</td>\n",
       "    </tr>\n",
       "    <tr>\n",
       "      <th>0</th>\n",
       "      <td>Добавить два новых канала привлечения трафика, что позволит привлекать на 30% больше пользователей</td>\n",
       "      <td>13.333333</td>\n",
       "    </tr>\n",
       "    <tr>\n",
       "      <th>7</th>\n",
       "      <td>Добавить форму подписки на все основные страницы, чтобы собрать базу клиентов для email-рассылок</td>\n",
       "      <td>11.200000</td>\n",
       "    </tr>\n",
       "    <tr>\n",
       "      <th>6</th>\n",
       "      <td>Показать на главной странице баннеры с актуальными акциями и распродажами, чтобы увеличить конверсию</td>\n",
       "      <td>8.000000</td>\n",
       "    </tr>\n",
       "    <tr>\n",
       "      <th>2</th>\n",
       "      <td>Добавить блоки рекомендаций товаров на сайт интернет магазина, чтобы повысить конверсию и средний чек заказа</td>\n",
       "      <td>7.000000</td>\n",
       "    </tr>\n",
       "    <tr>\n",
       "      <th>1</th>\n",
       "      <td>Запустить собственную службу доставки, что сократит срок доставки заказов</td>\n",
       "      <td>2.000000</td>\n",
       "    </tr>\n",
       "    <tr>\n",
       "      <th>5</th>\n",
       "      <td>Добавить страницу отзывов клиентов о магазине, что позволит увеличить количество заказов</td>\n",
       "      <td>1.333333</td>\n",
       "    </tr>\n",
       "    <tr>\n",
       "      <th>3</th>\n",
       "      <td>Изменить структура категорий, что увеличит конверсию, т.к. пользователи быстрее найдут нужный товар</td>\n",
       "      <td>1.125000</td>\n",
       "    </tr>\n",
       "    <tr>\n",
       "      <th>4</th>\n",
       "      <td>Изменить цвет фона главной страницы, чтобы увеличить вовлеченность пользователей</td>\n",
       "      <td>1.000000</td>\n",
       "    </tr>\n",
       "  </tbody>\n",
       "</table>\n",
       "</div>"
      ],
      "text/plain": [
       "                                                                                                     hypothesis  \\\n",
       "8                                                       Запустить акцию, дающую скидку на товар в день рождения   \n",
       "0            Добавить два новых канала привлечения трафика, что позволит привлекать на 30% больше пользователей   \n",
       "7              Добавить форму подписки на все основные страницы, чтобы собрать базу клиентов для email-рассылок   \n",
       "6          Показать на главной странице баннеры с актуальными акциями и распродажами, чтобы увеличить конверсию   \n",
       "2  Добавить блоки рекомендаций товаров на сайт интернет магазина, чтобы повысить конверсию и средний чек заказа   \n",
       "1                                     Запустить собственную службу доставки, что сократит срок доставки заказов   \n",
       "5                      Добавить страницу отзывов клиентов о магазине, что позволит увеличить количество заказов   \n",
       "3           Изменить структура категорий, что увеличит конверсию, т.к. пользователи быстрее найдут нужный товар   \n",
       "4                              Изменить цвет фона главной страницы, чтобы увеличить вовлеченность пользователей   \n",
       "\n",
       "         ICE  \n",
       "8  16.200000  \n",
       "0  13.333333  \n",
       "7  11.200000  \n",
       "6   8.000000  \n",
       "2   7.000000  \n",
       "1   2.000000  \n",
       "5   1.333333  \n",
       "3   1.125000  \n",
       "4   1.000000  "
      ]
     },
     "execution_count": 15,
     "metadata": {},
     "output_type": "execute_result"
    }
   ],
   "source": [
    "# считаем ICE для гипотез и сортируем по убыванию ICE\n",
    "hypothesis['ICE'] = hypothesis['impact'] * hypothesis['confidence']/hypothesis['efforts']\n",
    "hypothesis.loc[:,['hypothesis', 'ICE']].sort_values(by='ICE', ascending=False)"
   ]
  },
  {
   "cell_type": "code",
   "execution_count": 16,
   "metadata": {},
   "outputs": [
    {
     "data": {
      "text/html": [
       "<div>\n",
       "<style scoped>\n",
       "    .dataframe tbody tr th:only-of-type {\n",
       "        vertical-align: middle;\n",
       "    }\n",
       "\n",
       "    .dataframe tbody tr th {\n",
       "        vertical-align: top;\n",
       "    }\n",
       "\n",
       "    .dataframe thead th {\n",
       "        text-align: right;\n",
       "    }\n",
       "</style>\n",
       "<table border=\"1\" class=\"dataframe\">\n",
       "  <thead>\n",
       "    <tr style=\"text-align: right;\">\n",
       "      <th></th>\n",
       "      <th>hypothesis</th>\n",
       "      <th>ICE</th>\n",
       "      <th>RICE</th>\n",
       "    </tr>\n",
       "  </thead>\n",
       "  <tbody>\n",
       "    <tr>\n",
       "      <th>7</th>\n",
       "      <td>Добавить форму подписки на все основные страницы, чтобы собрать базу клиентов для email-рассылок</td>\n",
       "      <td>11.200000</td>\n",
       "      <td>112.0</td>\n",
       "    </tr>\n",
       "    <tr>\n",
       "      <th>2</th>\n",
       "      <td>Добавить блоки рекомендаций товаров на сайт интернет магазина, чтобы повысить конверсию и средний чек заказа</td>\n",
       "      <td>7.000000</td>\n",
       "      <td>56.0</td>\n",
       "    </tr>\n",
       "    <tr>\n",
       "      <th>0</th>\n",
       "      <td>Добавить два новых канала привлечения трафика, что позволит привлекать на 30% больше пользователей</td>\n",
       "      <td>13.333333</td>\n",
       "      <td>40.0</td>\n",
       "    </tr>\n",
       "    <tr>\n",
       "      <th>6</th>\n",
       "      <td>Показать на главной странице баннеры с актуальными акциями и распродажами, чтобы увеличить конверсию</td>\n",
       "      <td>8.000000</td>\n",
       "      <td>40.0</td>\n",
       "    </tr>\n",
       "    <tr>\n",
       "      <th>8</th>\n",
       "      <td>Запустить акцию, дающую скидку на товар в день рождения</td>\n",
       "      <td>16.200000</td>\n",
       "      <td>16.2</td>\n",
       "    </tr>\n",
       "    <tr>\n",
       "      <th>3</th>\n",
       "      <td>Изменить структура категорий, что увеличит конверсию, т.к. пользователи быстрее найдут нужный товар</td>\n",
       "      <td>1.125000</td>\n",
       "      <td>9.0</td>\n",
       "    </tr>\n",
       "    <tr>\n",
       "      <th>1</th>\n",
       "      <td>Запустить собственную службу доставки, что сократит срок доставки заказов</td>\n",
       "      <td>2.000000</td>\n",
       "      <td>4.0</td>\n",
       "    </tr>\n",
       "    <tr>\n",
       "      <th>5</th>\n",
       "      <td>Добавить страницу отзывов клиентов о магазине, что позволит увеличить количество заказов</td>\n",
       "      <td>1.333333</td>\n",
       "      <td>4.0</td>\n",
       "    </tr>\n",
       "    <tr>\n",
       "      <th>4</th>\n",
       "      <td>Изменить цвет фона главной страницы, чтобы увеличить вовлеченность пользователей</td>\n",
       "      <td>1.000000</td>\n",
       "      <td>3.0</td>\n",
       "    </tr>\n",
       "  </tbody>\n",
       "</table>\n",
       "</div>"
      ],
      "text/plain": [
       "                                                                                                     hypothesis  \\\n",
       "7              Добавить форму подписки на все основные страницы, чтобы собрать базу клиентов для email-рассылок   \n",
       "2  Добавить блоки рекомендаций товаров на сайт интернет магазина, чтобы повысить конверсию и средний чек заказа   \n",
       "0            Добавить два новых канала привлечения трафика, что позволит привлекать на 30% больше пользователей   \n",
       "6          Показать на главной странице баннеры с актуальными акциями и распродажами, чтобы увеличить конверсию   \n",
       "8                                                       Запустить акцию, дающую скидку на товар в день рождения   \n",
       "3           Изменить структура категорий, что увеличит конверсию, т.к. пользователи быстрее найдут нужный товар   \n",
       "1                                     Запустить собственную службу доставки, что сократит срок доставки заказов   \n",
       "5                      Добавить страницу отзывов клиентов о магазине, что позволит увеличить количество заказов   \n",
       "4                              Изменить цвет фона главной страницы, чтобы увеличить вовлеченность пользователей   \n",
       "\n",
       "         ICE   RICE  \n",
       "7  11.200000  112.0  \n",
       "2   7.000000   56.0  \n",
       "0  13.333333   40.0  \n",
       "6   8.000000   40.0  \n",
       "8  16.200000   16.2  \n",
       "3   1.125000    9.0  \n",
       "1   2.000000    4.0  \n",
       "5   1.333333    4.0  \n",
       "4   1.000000    3.0  "
      ]
     },
     "execution_count": 16,
     "metadata": {},
     "output_type": "execute_result"
    }
   ],
   "source": [
    "# считаем RICE для гипотез и сортируем по убыванию RICE\n",
    "hypothesis['RICE'] = hypothesis['reach']*hypothesis['impact']*hypothesis['confidence']/hypothesis['efforts']\n",
    "hypothesis.loc[:,['hypothesis', 'ICE','RICE']].sort_values(by=['RICE', 'ICE'], ascending=False)"
   ]
  },
  {
   "cell_type": "markdown",
   "metadata": {},
   "source": [
    "Вывод:\n",
    "- по критерию ICE  впереди гипотезы: 8(Запустить акцию, дающую скидку на товар в день рождения),0(Добавить два новых канала привлечения трафика, что позволит привлекать на 30% больше пользователей),7(Добавить форму подписки на все основные страницы, чтобы собрать базу клиентов для email-рассылок). Влияние и уверенность в этих гипотезах высокие, а затраты средние.\n",
    "- по критерию RICE на первых местах гипотезы: 7(Добавить форму подписки на все основные страницы, чтобы собрать базу клиентов для email-рассылок),2(Добавить блоки рекомендаций товаров на сайт интернет магазина, чтобы повысить конверсию и средний чек заказа),0(Добавить два новых канала привлечения трафика, что позволит привлекать на 30% больше пользователей). На гипотезы 7,2 повлиял показатель охват пользователей. Гипотеза 7 имеет максимальный балл охвата, то есть она захватит большинство людей. \n",
    "\n",
    "На основании этих критериев в проиоритете гипотезы \n",
    "7(Добавить форму подписки на все основные страницы, чтобы собрать базу клиентов для email-рассылок),\n",
    "0(Добавить два новых канала привлечения трафика, что позволит привлекать на 30% больше пользователей)."
   ]
  },
  {
   "cell_type": "markdown",
   "metadata": {},
   "source": [
    "<div class=\"alert alert-warning\">\n",
    "<b>Комментарий ревьюера ⚠️:</b> \n",
    "\n",
    "Можно вывести результаты двух фреймворков вместе, чтобы оценить их значения. Также в выводах лучше привести полное название гипотез, а не только их номер - это сделает проект более информативным. Обычно выводы пишутся для коллег или руководства, и у них может быть другая нумерация гипотез или вообще гипотезы без номеров."
   ]
  },
  {
   "cell_type": "markdown",
   "metadata": {},
   "source": [
    "<div class=\"alert alert-info\">\n",
    "<b>Комментарий студента:</b> Исправлено.</div> "
   ]
  },
  {
   "cell_type": "markdown",
   "metadata": {},
   "source": [
    "<div class=\"alert alert-success\">\n",
    "<b>2V Комментарий ревьюера ✔️✔️:</b> 😺 отлично, всё верно!"
   ]
  },
  {
   "cell_type": "markdown",
   "metadata": {},
   "source": [
    "## Анализ A/B тестирования."
   ]
  },
  {
   "cell_type": "markdown",
   "metadata": {},
   "source": [
    "<div class=\"alert alert-danger\">\n",
    "<s><b>Комментарий ревьюера ❌:</b> Перед изучением результатов А/В теста важно проверить временной интервал теста (набора пользователей и совершения событий), а также оценить наличие пользователей в двух группах (так как большая доля пересечений искажает результаты теста). Сделай, пожалуйста, следующие проверки:\n",
    "    \n",
    "    - сколько у нас групп в АВ-тесте;\n",
    "    - даты начала и окончания теста;\n",
    "    - сколько пользователей в каждой группе - по таблице с заказами;\n",
    "    - не попадают ли какие-то пользователи в обе группы (по таблице с заказами).\n",
    "    \n",
    "\n",
    "    "
   ]
  },
  {
   "cell_type": "markdown",
   "metadata": {},
   "source": [
    "<div class=\"alert alert-info\">\n",
    "<b>Комментарий студента:</b> Совсем упустила это. Исправила.</div> "
   ]
  },
  {
   "cell_type": "markdown",
   "metadata": {},
   "source": [
    "### Подготовка к анализу A/B - теста."
   ]
  },
  {
   "cell_type": "code",
   "execution_count": 17,
   "metadata": {},
   "outputs": [
    {
     "data": {
      "text/plain": [
       "array(['A', 'B'], dtype=object)"
      ]
     },
     "execution_count": 17,
     "metadata": {},
     "output_type": "execute_result"
    }
   ],
   "source": [
    "visitors['group'].unique()"
   ]
  },
  {
   "cell_type": "markdown",
   "metadata": {},
   "source": [
    "У нас две группы: А,В."
   ]
  },
  {
   "cell_type": "markdown",
   "metadata": {},
   "source": [
    "<div class=\"alert alert-success\">\n",
    "<b>2V Комментарий ревьюера ✔️✔️:</b> 😺 👍"
   ]
  },
  {
   "cell_type": "code",
   "execution_count": 18,
   "metadata": {},
   "outputs": [
    {
     "name": "stdout",
     "output_type": "stream",
     "text": [
      "Кол-во посетителей в группе А: 18736\n",
      "Кол-во посетителей в группе B: 18916\n",
      "Разница в количестве посетителей в группах A и B статистически НЕ значима\n"
     ]
    }
   ],
   "source": [
    "# посчитаем количество посетителей по группам и статистическую значимость\n",
    "print('Кол-во посетителей в группе А: {}\\n'\n",
    "      'Кол-во посетителей в группе B: {}'.format(visitors[visitors['group']=='A']['visitors'].sum(), \n",
    "                                                 visitors[visitors['group']=='B']['visitors'].sum()))\n",
    "results = st.mannwhitneyu(visitors[visitors['group']=='A']['visitors'], visitors[visitors['group']=='B']['visitors'])\n",
    "alpha = 0.05\n",
    "\n",
    "if results.pvalue < alpha:\n",
    "    print('Разница в количестве посетителей в группах A и B статистически значима')\n",
    "else:\n",
    "    print('Разница в количестве посетителей в группах A и B статистически НЕ значима')"
   ]
  },
  {
   "cell_type": "markdown",
   "metadata": {},
   "source": [
    "Разница между размерами групп статистически не значима и составляет менее 1%."
   ]
  },
  {
   "cell_type": "markdown",
   "metadata": {},
   "source": [
    "<div class=\"alert alert-success\">\n",
    "<b>2V Комментарий ревьюера ✔️✔️:</b> 😺 👍"
   ]
  },
  {
   "cell_type": "code",
   "execution_count": 19,
   "metadata": {},
   "outputs": [
    {
     "name": "stdout",
     "output_type": "stream",
     "text": [
      "Начальная конверсия: 0.030\n",
      "Полученная после изменений конверсия: 0.034\n",
      "Относительное изменение конверсии после изменений: 0.121\n"
     ]
    }
   ],
   "source": [
    "# посчитаем относительное изменений конверсий\n",
    "first_conversion = len(orders[orders['group']=='A']) / visitors[visitors['group']=='A']['visitors'].sum() \n",
    "second_conversion = len(orders[orders['group']=='B']) / visitors[visitors['group']=='B']['visitors'].sum()\n",
    "print(f'Начальная конверсия: {first_conversion:.3f}')\n",
    "print(f'Полученная после изменений конверсия: {second_conversion:.3f}')\n",
    "print(f'Относительное изменение конверсии после изменений: {(abs(1-(first_conversion/second_conversion))):.3f}')"
   ]
  },
  {
   "cell_type": "markdown",
   "metadata": {},
   "source": [
    "Расчитаем необходимый размер выборки расчитаем в калькуляторе: 35855. А у нас 37652. Размер выборки соответствует для корректного исследования."
   ]
  },
  {
   "cell_type": "markdown",
   "metadata": {},
   "source": [
    "<div class=\"alert alert-success\">\n",
    "<b>2V Комментарий ревьюера ✔️✔️:</b> 😺 👍"
   ]
  },
  {
   "cell_type": "code",
   "execution_count": 20,
   "metadata": {},
   "outputs": [
    {
     "name": "stdout",
     "output_type": "stream",
     "text": [
      "Кол-во покупок в группе A: 557\n",
      "Кол-во покупок в группе B: 640\n"
     ]
    }
   ],
   "source": [
    "print('Кол-во покупок в группе A: {}'.format(len(orders[orders['group']=='A'])))\n",
    "print('Кол-во покупок в группе B: {}'.format(len(orders[orders['group']=='B'])))"
   ]
  },
  {
   "cell_type": "code",
   "execution_count": 21,
   "metadata": {},
   "outputs": [
    {
     "name": "stdout",
     "output_type": "stream",
     "text": [
      "2019-08-01 00:00:00\n",
      "2019-08-31 00:00:00\n"
     ]
    }
   ],
   "source": [
    "# дата начала и конца исследования\n",
    "print(orders['date'].min())\n",
    "print(orders['date'].max())"
   ]
  },
  {
   "cell_type": "markdown",
   "metadata": {},
   "source": [
    "<div class=\"alert alert-success\">\n",
    "<b>2V Комментарий ревьюера ✔️✔️:</b> 😺 👍"
   ]
  },
  {
   "cell_type": "markdown",
   "metadata": {},
   "source": [
    "<div class=\"alert alert-warning\">\n",
    "<b>2V Комментарий ревьюера ⚠️⚠️:</b> здесь будет также полезно посмотреть диапазон в файле visitors  и сравнить его с этим диапазоном (в нашем проекте они будут совпадать)"
   ]
  },
  {
   "cell_type": "code",
   "execution_count": 22,
   "metadata": {},
   "outputs": [
    {
     "data": {
      "text/html": [
       "<div>\n",
       "<style scoped>\n",
       "    .dataframe tbody tr th:only-of-type {\n",
       "        vertical-align: middle;\n",
       "    }\n",
       "\n",
       "    .dataframe tbody tr th {\n",
       "        vertical-align: top;\n",
       "    }\n",
       "\n",
       "    .dataframe thead th {\n",
       "        text-align: right;\n",
       "    }\n",
       "</style>\n",
       "<table border=\"1\" class=\"dataframe\">\n",
       "  <thead>\n",
       "    <tr style=\"text-align: right;\">\n",
       "      <th></th>\n",
       "      <th>visitor_id</th>\n",
       "      <th>group</th>\n",
       "      <th>count</th>\n",
       "    </tr>\n",
       "  </thead>\n",
       "  <tbody>\n",
       "    <tr>\n",
       "      <th>45</th>\n",
       "      <td>199603092</td>\n",
       "      <td>A</td>\n",
       "      <td>4</td>\n",
       "    </tr>\n",
       "    <tr>\n",
       "      <th>58</th>\n",
       "      <td>237748145</td>\n",
       "      <td>A</td>\n",
       "      <td>4</td>\n",
       "    </tr>\n",
       "    <tr>\n",
       "      <th>63</th>\n",
       "      <td>249864742</td>\n",
       "      <td>B</td>\n",
       "      <td>3</td>\n",
       "    </tr>\n",
       "    <tr>\n",
       "      <th>94</th>\n",
       "      <td>366673373</td>\n",
       "      <td>A</td>\n",
       "      <td>2</td>\n",
       "    </tr>\n",
       "    <tr>\n",
       "      <th>104</th>\n",
       "      <td>393266494</td>\n",
       "      <td>B</td>\n",
       "      <td>2</td>\n",
       "    </tr>\n",
       "    <tr>\n",
       "      <th>...</th>\n",
       "      <td>...</td>\n",
       "      <td>...</td>\n",
       "      <td>...</td>\n",
       "    </tr>\n",
       "    <tr>\n",
       "      <th>1045</th>\n",
       "      <td>4109358064</td>\n",
       "      <td>A</td>\n",
       "      <td>2</td>\n",
       "    </tr>\n",
       "    <tr>\n",
       "      <th>1050</th>\n",
       "      <td>4134830387</td>\n",
       "      <td>B</td>\n",
       "      <td>2</td>\n",
       "    </tr>\n",
       "    <tr>\n",
       "      <th>1065</th>\n",
       "      <td>4186807279</td>\n",
       "      <td>B</td>\n",
       "      <td>2</td>\n",
       "    </tr>\n",
       "    <tr>\n",
       "      <th>1079</th>\n",
       "      <td>4256040402</td>\n",
       "      <td>A</td>\n",
       "      <td>7</td>\n",
       "    </tr>\n",
       "    <tr>\n",
       "      <th>1080</th>\n",
       "      <td>4256040402</td>\n",
       "      <td>B</td>\n",
       "      <td>4</td>\n",
       "    </tr>\n",
       "  </tbody>\n",
       "</table>\n",
       "<p>64 rows × 3 columns</p>\n",
       "</div>"
      ],
      "text/plain": [
       "      visitor_id group  count\n",
       "45     199603092     A      4\n",
       "58     237748145     A      4\n",
       "63     249864742     B      3\n",
       "94     366673373     A      2\n",
       "104    393266494     B      2\n",
       "...          ...   ...    ...\n",
       "1045  4109358064     A      2\n",
       "1050  4134830387     B      2\n",
       "1065  4186807279     B      2\n",
       "1079  4256040402     A      7\n",
       "1080  4256040402     B      4\n",
       "\n",
       "[64 rows x 3 columns]"
      ]
     },
     "execution_count": 22,
     "metadata": {},
     "output_type": "execute_result"
    }
   ],
   "source": [
    "# сгруппируем данные по пользователям и группам\n",
    "group_sizes = orders.groupby(['visitor_id', 'group']).size().reset_index()\n",
    "group_sizes.columns = ['visitor_id', 'group', 'count']\n",
    "group_sizes = group_sizes.query('count > 1').sort_values(by='visitor_id')\n",
    "group_sizes"
   ]
  },
  {
   "cell_type": "code",
   "execution_count": 23,
   "metadata": {},
   "outputs": [
    {
     "data": {
      "text/html": [
       "<div>\n",
       "<style scoped>\n",
       "    .dataframe tbody tr th:only-of-type {\n",
       "        vertical-align: middle;\n",
       "    }\n",
       "\n",
       "    .dataframe tbody tr th {\n",
       "        vertical-align: top;\n",
       "    }\n",
       "\n",
       "    .dataframe thead th {\n",
       "        text-align: right;\n",
       "    }\n",
       "</style>\n",
       "<table border=\"1\" class=\"dataframe\">\n",
       "  <thead>\n",
       "    <tr style=\"text-align: right;\">\n",
       "      <th></th>\n",
       "      <th>visitor_id</th>\n",
       "      <th>group</th>\n",
       "      <th>count</th>\n",
       "    </tr>\n",
       "  </thead>\n",
       "  <tbody>\n",
       "    <tr>\n",
       "      <th>312</th>\n",
       "      <td>1230306981</td>\n",
       "      <td>B</td>\n",
       "      <td>2</td>\n",
       "    </tr>\n",
       "    <tr>\n",
       "      <th>512</th>\n",
       "      <td>2038680547</td>\n",
       "      <td>B</td>\n",
       "      <td>3</td>\n",
       "    </tr>\n",
       "    <tr>\n",
       "      <th>596</th>\n",
       "      <td>2378935119</td>\n",
       "      <td>B</td>\n",
       "      <td>5</td>\n",
       "    </tr>\n",
       "    <tr>\n",
       "      <th>619</th>\n",
       "      <td>2458001652</td>\n",
       "      <td>B</td>\n",
       "      <td>6</td>\n",
       "    </tr>\n",
       "    <tr>\n",
       "      <th>1080</th>\n",
       "      <td>4256040402</td>\n",
       "      <td>B</td>\n",
       "      <td>4</td>\n",
       "    </tr>\n",
       "  </tbody>\n",
       "</table>\n",
       "</div>"
      ],
      "text/plain": [
       "      visitor_id group  count\n",
       "312   1230306981     B      2\n",
       "512   2038680547     B      3\n",
       "596   2378935119     B      5\n",
       "619   2458001652     B      6\n",
       "1080  4256040402     B      4"
      ]
     },
     "execution_count": 23,
     "metadata": {},
     "output_type": "execute_result"
    }
   ],
   "source": [
    "#проверим какие пользователи попали сразу в две группы\n",
    "duplucate = group_sizes[group_sizes['visitor_id'].duplicated()]\n",
    "duplucate"
   ]
  },
  {
   "cell_type": "markdown",
   "metadata": {},
   "source": [
    "<div class=\"alert alert-warning\">\n",
    "<b>2V Комментарий ревьюера ⚠️⚠️:</b> На самом деле таких пользователей, которые попали в обе группы, у нас больше - 53, но это действительно некритичное количество. Проверить можно так: \n",
    "    \n",
    "    # код для расчета пользователей , попавших в обе группы\n",
    "    (orders.groupby('visitorId')['group'].nunique() > 1).sum()"
   ]
  },
  {
   "cell_type": "markdown",
   "metadata": {},
   "source": [
    "5 пользователей попало в обе группы и во второй группе они совершили в сумме 20 заказов. Так как в рамках этого A/B теста не пользователей, а сесии разделяли на группы, то проблемы в том, что пользователь попал в обе группы, нет. Просто так вышло, что он совершил несколько сессий, которые определились в разные группы. Так же, это составляет примерно 2% от количества всех заказов."
   ]
  },
  {
   "cell_type": "markdown",
   "metadata": {},
   "source": [
    "**Вывод:** У нас две группы А и В. Разница в количестве посетителей в группах A и B статистически НЕ значима. Размер выборки соответствует для корректного исследования. Время исследования: 31 день(1 месяц)."
   ]
  },
  {
   "cell_type": "markdown",
   "metadata": {},
   "source": [
    "<div class=\"alert alert-success\">\n",
    "<b>2V Комментарий ревьюера ✔️✔️:</b> 😺 👍"
   ]
  },
  {
   "cell_type": "markdown",
   "metadata": {},
   "source": [
    "### Кумулятивная выручка"
   ]
  },
  {
   "cell_type": "code",
   "execution_count": 24,
   "metadata": {},
   "outputs": [
    {
     "data": {
      "text/html": [
       "<div>\n",
       "<style scoped>\n",
       "    .dataframe tbody tr th:only-of-type {\n",
       "        vertical-align: middle;\n",
       "    }\n",
       "\n",
       "    .dataframe tbody tr th {\n",
       "        vertical-align: top;\n",
       "    }\n",
       "\n",
       "    .dataframe thead th {\n",
       "        text-align: right;\n",
       "    }\n",
       "</style>\n",
       "<table border=\"1\" class=\"dataframe\">\n",
       "  <thead>\n",
       "    <tr style=\"text-align: right;\">\n",
       "      <th></th>\n",
       "      <th>date</th>\n",
       "      <th>group</th>\n",
       "      <th>orders</th>\n",
       "      <th>buyers</th>\n",
       "      <th>revenue</th>\n",
       "      <th>visitors</th>\n",
       "    </tr>\n",
       "  </thead>\n",
       "  <tbody>\n",
       "    <tr>\n",
       "      <th>0</th>\n",
       "      <td>2019-08-01</td>\n",
       "      <td>A</td>\n",
       "      <td>24</td>\n",
       "      <td>20</td>\n",
       "      <td>148579</td>\n",
       "      <td>719</td>\n",
       "    </tr>\n",
       "    <tr>\n",
       "      <th>1</th>\n",
       "      <td>2019-08-01</td>\n",
       "      <td>B</td>\n",
       "      <td>21</td>\n",
       "      <td>20</td>\n",
       "      <td>101217</td>\n",
       "      <td>713</td>\n",
       "    </tr>\n",
       "    <tr>\n",
       "      <th>2</th>\n",
       "      <td>2019-08-02</td>\n",
       "      <td>A</td>\n",
       "      <td>44</td>\n",
       "      <td>38</td>\n",
       "      <td>242401</td>\n",
       "      <td>1338</td>\n",
       "    </tr>\n",
       "    <tr>\n",
       "      <th>3</th>\n",
       "      <td>2019-08-02</td>\n",
       "      <td>B</td>\n",
       "      <td>45</td>\n",
       "      <td>43</td>\n",
       "      <td>266748</td>\n",
       "      <td>1294</td>\n",
       "    </tr>\n",
       "    <tr>\n",
       "      <th>4</th>\n",
       "      <td>2019-08-03</td>\n",
       "      <td>A</td>\n",
       "      <td>68</td>\n",
       "      <td>62</td>\n",
       "      <td>354874</td>\n",
       "      <td>1845</td>\n",
       "    </tr>\n",
       "  </tbody>\n",
       "</table>\n",
       "</div>"
      ],
      "text/plain": [
       "        date group  orders  buyers  revenue  visitors\n",
       "0 2019-08-01     A      24      20   148579       719\n",
       "1 2019-08-01     B      21      20   101217       713\n",
       "2 2019-08-02     A      44      38   242401      1338\n",
       "3 2019-08-02     B      45      43   266748      1294\n",
       "4 2019-08-03     A      68      62   354874      1845"
      ]
     },
     "execution_count": 24,
     "metadata": {},
     "output_type": "execute_result"
    }
   ],
   "source": [
    "# Создадим массив уникальных пар значений дат и групп теста\n",
    "datesGroups = orders[['date','group']].drop_duplicates() \n",
    "# Соберём агрегированные кумулятивные по дням данные о заказах \n",
    "ordersAggregated = datesGroups.apply(lambda x: orders[np.logical_and(orders['date'] <= x['date'], orders['group'] == x['group'])].agg({'date' : 'max', 'group' : 'max', 'transaction_id' : pd.Series.nunique, 'visitor_id' : pd.Series.nunique, 'revenue' : 'sum'}), axis=1).sort_values(by=['date','group'])\n",
    "\n",
    "# агрегированные кумулятивные по дням данные о посетителях интернет-магазина:\n",
    "visitorsAggregated = datesGroups.apply(lambda x: visitors[np.logical_and(visitors['date'] <= x['date'], visitors['group'] == x['group'])].agg({'date' : 'max', 'group' : 'max', 'visitors' : 'sum'}), axis=1).sort_values(by=['date','group'])\n",
    "#Объединим обе таблицы в одну с понятными названиями столбцов:\n",
    "cumulativeData = ordersAggregated.merge(visitorsAggregated, left_on=['date', 'group'], right_on=['date', 'group'])\n",
    "\n",
    "cumulativeData.columns = ['date', 'group', 'orders', 'buyers', 'revenue', 'visitors']\n",
    "\n",
    "cumulativeData.head(5) \n"
   ]
  },
  {
   "cell_type": "markdown",
   "metadata": {},
   "source": [
    "<div class=\"alert alert-success\">\n",
    "<b>Комментарий ревьюера ✔️:</b> 👍 данные собраны корректно </div>"
   ]
  },
  {
   "cell_type": "code",
   "execution_count": 25,
   "metadata": {},
   "outputs": [
    {
     "data": {
      "text/plain": [
       "<matplotlib.legend.Legend at 0x7ff5e05cb670>"
      ]
     },
     "execution_count": 25,
     "metadata": {},
     "output_type": "execute_result"
    },
    {
     "data": {
      "image/png": "[encoded data removed]",
      "text/plain": [
       "<Figure size 432x288 with 1 Axes>"
      ]
     },
     "metadata": {
      "needs_background": "light"
     },
     "output_type": "display_data"
    }
   ],
   "source": [
    "# графики коммулятивной выручки\n",
    "cumulativeRevenueA = cumulativeData[cumulativeData['group']=='A'][['date','revenue', 'orders']]\n",
    "cumulativeRevenueB = cumulativeData[cumulativeData['group']=='B'][['date','revenue', 'orders']]\n",
    "\n",
    "# Строим график выручки группы А\n",
    "plt.plot(cumulativeRevenueA['date'], cumulativeRevenueA['revenue'], label='A')\n",
    "\n",
    "# Строим график выручки группы B\n",
    "plt.plot(cumulativeRevenueB['date'], cumulativeRevenueB['revenue'], label='B')\n",
    "plt.title('Комулятивная выручка')\n",
    "plt.xticks(rotation = 45)\n",
    "plt.legend() "
   ]
  },
  {
   "cell_type": "markdown",
   "metadata": {},
   "source": [
    "17-го августа сегмент В резко вырывался вперед, возможно есть аномалии в заказах."
   ]
  },
  {
   "cell_type": "markdown",
   "metadata": {},
   "source": [
    "<div class=\"alert alert-success\">\n",
    "<b>Комментарий ревьюера ✔️:</b> 👍график и интерпретация корректны </div>"
   ]
  },
  {
   "cell_type": "markdown",
   "metadata": {},
   "source": [
    "### Кумулятивный средний чек"
   ]
  },
  {
   "cell_type": "code",
   "execution_count": 26,
   "metadata": {},
   "outputs": [
    {
     "data": {
      "text/plain": [
       "<matplotlib.legend.Legend at 0x7ff5e01bf250>"
      ]
     },
     "execution_count": 26,
     "metadata": {},
     "output_type": "execute_result"
    },
    {
     "data": {
      "image/png": "[encoded data removed]",
      "text/plain": [
       "<Figure size 432x288 with 1 Axes>"
      ]
     },
     "metadata": {
      "needs_background": "light"
     },
     "output_type": "display_data"
    }
   ],
   "source": [
    "# графики комулятивного среднего чека\n",
    "plt.plot(cumulativeRevenueA['date'], cumulativeRevenueA['revenue']/cumulativeRevenueA['orders'], label='A')\n",
    "plt.plot(cumulativeRevenueB['date'], cumulativeRevenueB['revenue']/cumulativeRevenueB['orders'], label='B')\n",
    "plt.title('Комулятивный средний чек')\n",
    "plt.xticks(rotation = 45)\n",
    "plt.legend() "
   ]
  },
  {
   "cell_type": "markdown",
   "metadata": {},
   "source": [
    "<div class=\"alert alert-success\">\n",
    "<b>Комментарий ревьюера ✔️:</b> 👍график корректный </div>"
   ]
  },
  {
   "cell_type": "markdown",
   "metadata": {},
   "source": [
    "<div class=\"alert alert-warning\">\n",
    "<b>Комментарий ревьюера ⚠️:</b> \n",
    "\n",
    "не хватате пояснения к этому графику"
   ]
  },
  {
   "cell_type": "markdown",
   "metadata": {},
   "source": [
    "<div class=\"alert alert-info\">\n",
    "<b>Комментарий студента:</b> Я оставила его чуть ниже, что бы сразу по двум графикам.</div> "
   ]
  },
  {
   "cell_type": "markdown",
   "metadata": {},
   "source": [
    "<div class=\"alert alert-success\">\n",
    "<b>2V Комментарий ревьюера ✔️✔️:</b> 😺 👍 поняла, да, вижу"
   ]
  },
  {
   "cell_type": "code",
   "execution_count": 27,
   "metadata": {},
   "outputs": [
    {
     "name": "stderr",
     "output_type": "stream",
     "text": [
      "No handles with labels found to put in legend.\n"
     ]
    },
    {
     "data": {
      "text/plain": [
       "<matplotlib.legend.Legend at 0x7ff5e017cdf0>"
      ]
     },
     "execution_count": 27,
     "metadata": {},
     "output_type": "execute_result"
    },
    {
     "data": {
      "image/png": "[encoded data removed]",
      "text/plain": [
       "<Figure size 432x288 with 1 Axes>"
      ]
     },
     "metadata": {
      "needs_background": "light"
     },
     "output_type": "display_data"
    }
   ],
   "source": [
    "# собираем данные в одном датафрейме\n",
    "mergedCumulativeRevenue = cumulativeRevenueA.merge(cumulativeRevenueB, left_on='date', right_on='date', how='left', suffixes=['A', 'B'])\n",
    "\n",
    "# cтроим отношение средних чеков\n",
    "plt.plot(mergedCumulativeRevenue['date'], (mergedCumulativeRevenue['revenueB']/mergedCumulativeRevenue['ordersB'])/(mergedCumulativeRevenue['revenueA']/mergedCumulativeRevenue['ordersA'])-1)\n",
    "\n",
    "# добавляем ось X\n",
    "plt.axhline(y=0, color='black', linestyle='--')\n",
    "plt.title('Относительное изменение кумулятивного среднего чека группы B к группе A')\n",
    "plt.xticks(rotation = 45)\n",
    "plt.legend() "
   ]
  },
  {
   "cell_type": "markdown",
   "metadata": {},
   "source": [
    "То же самое видно и резкий рост со средним чеком. Явно есть аномально высокий чек в данную дату. А график относительного изменения так же подтверждает данную гипотезу, так как есть переломные момент 17.08.2019"
   ]
  },
  {
   "cell_type": "markdown",
   "metadata": {},
   "source": [
    "<div class=\"alert alert-success\">\n",
    "<b>Комментарий ревьюера ✔️:</b> 👍график и интерпретация корректны </div>"
   ]
  },
  {
   "cell_type": "markdown",
   "metadata": {},
   "source": [
    "### Кумулятивная конверсия"
   ]
  },
  {
   "cell_type": "code",
   "execution_count": 28,
   "metadata": {},
   "outputs": [
    {
     "data": {
      "text/plain": [
       "<matplotlib.legend.Legend at 0x7ff5d80c06d0>"
      ]
     },
     "execution_count": 28,
     "metadata": {},
     "output_type": "execute_result"
    },
    {
     "data": {
      "image/png": "[encoded data removed]",
      "text/plain": [
       "<Figure size 432x288 with 1 Axes>"
      ]
     },
     "metadata": {
      "needs_background": "light"
     },
     "output_type": "display_data"
    }
   ],
   "source": [
    "# считаем кумулятивную конверсию\n",
    "cumulativeData['conversion'] = cumulativeData['orders']/cumulativeData['visitors']\n",
    "\n",
    "# отделяем данные по группе A\n",
    "cumulativeDataA = cumulativeData[cumulativeData['group']=='A']\n",
    "\n",
    "# отделяем данные по группе B\n",
    "cumulativeDataB = cumulativeData[cumulativeData['group']=='B']\n",
    "\n",
    "# строим графики\n",
    "plt.plot(cumulativeDataA['date'], cumulativeDataA['conversion'], label='A')\n",
    "plt.plot(cumulativeDataB['date'], cumulativeDataB['conversion'], label='B')\n",
    "plt.legend()\n",
    "\n",
    "plt.axis([dt.datetime(2019, 8, 1), dt.datetime(2019, 9, 1), 0, 0.05])\n",
    "plt.title('Комулятивная конверсия')\n",
    "plt.xticks(rotation = 45)\n",
    "plt.legend() "
   ]
  },
  {
   "cell_type": "markdown",
   "metadata": {},
   "source": [
    "В начале сегмент А имел чуть большую конверсию, но потом сегмент В выровнялся и зафиксровался выше значения А."
   ]
  },
  {
   "cell_type": "markdown",
   "metadata": {},
   "source": [
    "<div class=\"alert alert-success\">\n",
    "<b>Комментарий ревьюера ✔️:</b> 👍график и интерпретация корректны </div>"
   ]
  },
  {
   "cell_type": "markdown",
   "metadata": {},
   "source": [
    "<div class=\"alert alert-warning\">\n",
    "<b>Комментарий ревьюера ⚠️:</b>  без ограничения по осям этот график будет более наглядный"
   ]
  },
  {
   "cell_type": "markdown",
   "metadata": {},
   "source": [
    "<div class=\"alert alert-info\">\n",
    "<b>Комментарий студента:</b> Без ограничений разрыв на 0.005 и менее, выглядит очень крупно и происходит визульный обман плюс будут шумы видны и может казаться что график не стабилизировался, а здесь мы видим чо график более менее стабильный и что разрыв не такой большой.</div> "
   ]
  },
  {
   "cell_type": "markdown",
   "metadata": {},
   "source": [
    "<div class=\"alert alert-success\">\n",
    "<b>2V Комментарий ревьюера ✔️✔️:</b> 😺 👍 очень логично, да"
   ]
  },
  {
   "cell_type": "code",
   "execution_count": 29,
   "metadata": {},
   "outputs": [
    {
     "data": {
      "text/plain": [
       "<matplotlib.legend.Legend at 0x7ff5d80b31c0>"
      ]
     },
     "execution_count": 29,
     "metadata": {},
     "output_type": "execute_result"
    },
    {
     "data": {
      "image/png": "[encoded data removed]",
      "text/plain": [
       "<Figure size 432x288 with 1 Axes>"
      ]
     },
     "metadata": {
      "needs_background": "light"
     },
     "output_type": "display_data"
    }
   ],
   "source": [
    "# считаем и строим график по относительному приросту конверсии группы  B к группе A\n",
    "mergedCumulativeConversions = cumulativeDataA[['date','conversion']].merge(cumulativeDataB[['date','conversion']], left_on='date', right_on='date', how='left', suffixes=['A', 'B'])\n",
    "\n",
    "plt.plot(mergedCumulativeConversions['date'], mergedCumulativeConversions['conversionB']/mergedCumulativeConversions['conversionA']-1, label=\"Относительный прирост конверсии группы B относительно группы A\")\n",
    "plt.legend()\n",
    "\n",
    "plt.axhline(y=0, color='black', linestyle='--')\n",
    "plt.axhline(y=0.2, color='grey', linestyle='--')\n",
    "plt.axis([dt.datetime(2019, 8, 1), dt.datetime(2019, 9, 1), -0.5, 0.5])\n",
    "plt.title('Относительный прирост конверсии группы B относительно группы A')\n",
    "plt.xticks(rotation = 45)\n",
    "plt.legend()"
   ]
  },
  {
   "cell_type": "markdown",
   "metadata": {},
   "source": [
    "Группа В довольно таки быстро показала прирост конверсии и завиксировалась в районе 10%."
   ]
  },
  {
   "cell_type": "markdown",
   "metadata": {},
   "source": [
    "<div class=\"alert alert-success\">\n",
    "<b>Комментарий ревьюера ✔️:</b> 👍график и интерпретация корректны </div>"
   ]
  },
  {
   "cell_type": "markdown",
   "metadata": {},
   "source": [
    "### Определение аномальных пользователей"
   ]
  },
  {
   "cell_type": "code",
   "execution_count": 30,
   "metadata": {},
   "outputs": [
    {
     "data": {
      "text/html": [
       "<div>\n",
       "<style scoped>\n",
       "    .dataframe tbody tr th:only-of-type {\n",
       "        vertical-align: middle;\n",
       "    }\n",
       "\n",
       "    .dataframe tbody tr th {\n",
       "        vertical-align: top;\n",
       "    }\n",
       "\n",
       "    .dataframe thead th {\n",
       "        text-align: right;\n",
       "    }\n",
       "</style>\n",
       "<table border=\"1\" class=\"dataframe\">\n",
       "  <thead>\n",
       "    <tr style=\"text-align: right;\">\n",
       "      <th></th>\n",
       "      <th>visitor_id</th>\n",
       "      <th>orders</th>\n",
       "    </tr>\n",
       "  </thead>\n",
       "  <tbody>\n",
       "    <tr>\n",
       "      <th>1023</th>\n",
       "      <td>4256040402</td>\n",
       "      <td>11</td>\n",
       "    </tr>\n",
       "    <tr>\n",
       "      <th>591</th>\n",
       "      <td>2458001652</td>\n",
       "      <td>11</td>\n",
       "    </tr>\n",
       "    <tr>\n",
       "      <th>569</th>\n",
       "      <td>2378935119</td>\n",
       "      <td>9</td>\n",
       "    </tr>\n",
       "    <tr>\n",
       "      <th>487</th>\n",
       "      <td>2038680547</td>\n",
       "      <td>8</td>\n",
       "    </tr>\n",
       "    <tr>\n",
       "      <th>44</th>\n",
       "      <td>199603092</td>\n",
       "      <td>5</td>\n",
       "    </tr>\n",
       "    <tr>\n",
       "      <th>744</th>\n",
       "      <td>3062433592</td>\n",
       "      <td>5</td>\n",
       "    </tr>\n",
       "    <tr>\n",
       "      <th>55</th>\n",
       "      <td>237748145</td>\n",
       "      <td>5</td>\n",
       "    </tr>\n",
       "    <tr>\n",
       "      <th>917</th>\n",
       "      <td>3803269165</td>\n",
       "      <td>5</td>\n",
       "    </tr>\n",
       "    <tr>\n",
       "      <th>299</th>\n",
       "      <td>1230306981</td>\n",
       "      <td>5</td>\n",
       "    </tr>\n",
       "    <tr>\n",
       "      <th>897</th>\n",
       "      <td>3717692402</td>\n",
       "      <td>5</td>\n",
       "    </tr>\n",
       "  </tbody>\n",
       "</table>\n",
       "</div>"
      ],
      "text/plain": [
       "      visitor_id  orders\n",
       "1023  4256040402      11\n",
       "591   2458001652      11\n",
       "569   2378935119       9\n",
       "487   2038680547       8\n",
       "44     199603092       5\n",
       "744   3062433592       5\n",
       "55     237748145       5\n",
       "917   3803269165       5\n",
       "299   1230306981       5\n",
       "897   3717692402       5"
      ]
     },
     "execution_count": 30,
     "metadata": {},
     "output_type": "execute_result"
    }
   ],
   "source": [
    "# отсортируем пользователей по количеству заказов\n",
    "ordersByUsers = orders.drop(['group', 'revenue', 'date'], axis=1).groupby('visitor_id', as_index=False).agg({'transaction_id': 'nunique'})\n",
    "    \n",
    "ordersByUsers.columns = ['visitor_id', 'orders']\n",
    "ordersByUsers.sort_values(by='orders', ascending=False).head(10)"
   ]
  },
  {
   "cell_type": "code",
   "execution_count": 31,
   "metadata": {},
   "outputs": [
    {
     "data": {
      "text/plain": [
       "Text(0.5, 1.0, 'Количество заказов по пользователям')"
      ]
     },
     "execution_count": 31,
     "metadata": {},
     "output_type": "execute_result"
    },
    {
     "data": {
      "image/png": "[encoded data removed]",
      "text/plain": [
       "<Figure size 432x288 with 1 Axes>"
      ]
     },
     "metadata": {
      "needs_background": "light"
     },
     "output_type": "display_data"
    }
   ],
   "source": [
    "# строим точечны график по количеству заказов\n",
    "x_values = pd.Series(range(0, len(ordersByUsers)))\n",
    "plt.scatter(x_values, ordersByUsers['orders'])\n",
    "plt.title('Количество заказов по пользователям')"
   ]
  },
  {
   "cell_type": "markdown",
   "metadata": {},
   "source": [
    "Судя по точечному графику заказвших более 2-ух раз совсем мало."
   ]
  },
  {
   "cell_type": "code",
   "execution_count": 32,
   "metadata": {},
   "outputs": [
    {
     "name": "stdout",
     "output_type": "stream",
     "text": [
      "[1. 2. 4.]\n"
     ]
    }
   ],
   "source": [
    "# считаем персентели\n",
    "print(np.percentile(ordersByUsers['orders'], [90, 95, 99])) "
   ]
  },
  {
   "cell_type": "markdown",
   "metadata": {},
   "source": [
    "Не более 5% пользователей совершили более 2-ух заказов и не более 1% больше 4-ех заказов."
   ]
  },
  {
   "cell_type": "markdown",
   "metadata": {},
   "source": [
    "<div class=\"alert alert-success\">\n",
    "<b>Комментарий ревьюера ✔️:</b> 👍верно"
   ]
  },
  {
   "cell_type": "code",
   "execution_count": 33,
   "metadata": {},
   "outputs": [
    {
     "data": {
      "text/html": [
       "<div>\n",
       "<style scoped>\n",
       "    .dataframe tbody tr th:only-of-type {\n",
       "        vertical-align: middle;\n",
       "    }\n",
       "\n",
       "    .dataframe tbody tr th {\n",
       "        vertical-align: top;\n",
       "    }\n",
       "\n",
       "    .dataframe thead th {\n",
       "        text-align: right;\n",
       "    }\n",
       "</style>\n",
       "<table border=\"1\" class=\"dataframe\">\n",
       "  <thead>\n",
       "    <tr style=\"text-align: right;\">\n",
       "      <th></th>\n",
       "      <th>transaction_id</th>\n",
       "      <th>visitor_id</th>\n",
       "      <th>date</th>\n",
       "      <th>revenue</th>\n",
       "      <th>group</th>\n",
       "    </tr>\n",
       "  </thead>\n",
       "  <tbody>\n",
       "    <tr>\n",
       "      <th>425</th>\n",
       "      <td>590470918</td>\n",
       "      <td>1920142716</td>\n",
       "      <td>2019-08-19</td>\n",
       "      <td>1294500</td>\n",
       "      <td>B</td>\n",
       "    </tr>\n",
       "    <tr>\n",
       "      <th>1196</th>\n",
       "      <td>3936777065</td>\n",
       "      <td>2108080724</td>\n",
       "      <td>2019-08-15</td>\n",
       "      <td>202740</td>\n",
       "      <td>B</td>\n",
       "    </tr>\n",
       "    <tr>\n",
       "      <th>858</th>\n",
       "      <td>192721366</td>\n",
       "      <td>1316129916</td>\n",
       "      <td>2019-08-27</td>\n",
       "      <td>93940</td>\n",
       "      <td>A</td>\n",
       "    </tr>\n",
       "    <tr>\n",
       "      <th>1136</th>\n",
       "      <td>666610489</td>\n",
       "      <td>1307669133</td>\n",
       "      <td>2019-08-13</td>\n",
       "      <td>92550</td>\n",
       "      <td>A</td>\n",
       "    </tr>\n",
       "    <tr>\n",
       "      <th>744</th>\n",
       "      <td>3668308183</td>\n",
       "      <td>888512513</td>\n",
       "      <td>2019-08-27</td>\n",
       "      <td>86620</td>\n",
       "      <td>B</td>\n",
       "    </tr>\n",
       "    <tr>\n",
       "      <th>682</th>\n",
       "      <td>1216533772</td>\n",
       "      <td>4266935830</td>\n",
       "      <td>2019-08-29</td>\n",
       "      <td>78990</td>\n",
       "      <td>B</td>\n",
       "    </tr>\n",
       "    <tr>\n",
       "      <th>662</th>\n",
       "      <td>1811671147</td>\n",
       "      <td>4266935830</td>\n",
       "      <td>2019-08-29</td>\n",
       "      <td>78990</td>\n",
       "      <td>A</td>\n",
       "    </tr>\n",
       "    <tr>\n",
       "      <th>743</th>\n",
       "      <td>3603576309</td>\n",
       "      <td>4133034833</td>\n",
       "      <td>2019-08-09</td>\n",
       "      <td>67990</td>\n",
       "      <td>A</td>\n",
       "    </tr>\n",
       "    <tr>\n",
       "      <th>1103</th>\n",
       "      <td>1348774318</td>\n",
       "      <td>1164614297</td>\n",
       "      <td>2019-08-12</td>\n",
       "      <td>66350</td>\n",
       "      <td>A</td>\n",
       "    </tr>\n",
       "    <tr>\n",
       "      <th>1099</th>\n",
       "      <td>316924019</td>\n",
       "      <td>148427295</td>\n",
       "      <td>2019-08-12</td>\n",
       "      <td>65710</td>\n",
       "      <td>A</td>\n",
       "    </tr>\n",
       "  </tbody>\n",
       "</table>\n",
       "</div>"
      ],
      "text/plain": [
       "      transaction_id  visitor_id       date  revenue group\n",
       "425        590470918  1920142716 2019-08-19  1294500     B\n",
       "1196      3936777065  2108080724 2019-08-15   202740     B\n",
       "858        192721366  1316129916 2019-08-27    93940     A\n",
       "1136       666610489  1307669133 2019-08-13    92550     A\n",
       "744       3668308183   888512513 2019-08-27    86620     B\n",
       "682       1216533772  4266935830 2019-08-29    78990     B\n",
       "662       1811671147  4266935830 2019-08-29    78990     A\n",
       "743       3603576309  4133034833 2019-08-09    67990     A\n",
       "1103      1348774318  1164614297 2019-08-12    66350     A\n",
       "1099       316924019   148427295 2019-08-12    65710     A"
      ]
     },
     "execution_count": 33,
     "metadata": {},
     "output_type": "execute_result"
    }
   ],
   "source": [
    "# сортируем по выручке\n",
    "orders.sort_values(by='revenue', ascending=False).head(10)"
   ]
  },
  {
   "cell_type": "code",
   "execution_count": 34,
   "metadata": {},
   "outputs": [
    {
     "data": {
      "text/plain": [
       "<matplotlib.collections.PathCollection at 0x7ff5d7fdfcd0>"
      ]
     },
     "execution_count": 34,
     "metadata": {},
     "output_type": "execute_result"
    },
    {
     "data": {
      "image/png": "[encoded data removed]",
      "text/plain": [
       "<Figure size 432x288 with 1 Axes>"
      ]
     },
     "metadata": {
      "needs_background": "light"
     },
     "output_type": "display_data"
    }
   ],
   "source": [
    "# строим точечный график по стоимости заказов\n",
    "x_values = pd.Series(range(0, len(orders['revenue'])))\n",
    "plt.title('Стоимость заказов по пользователям')\n",
    "plt.scatter(x_values, orders['revenue']) "
   ]
  },
  {
   "cell_type": "markdown",
   "metadata": {},
   "source": [
    "<div class=\"alert alert-warning\">\n",
    "<b>Комментарий ревьюера ⚠️:</b> Можно добавить еще один график, ограничив значения по оси Y.  Чтобы двух явных выбросов не было видно, а мы могли рассмотреть основную часть заказов. "
   ]
  },
  {
   "cell_type": "markdown",
   "metadata": {},
   "source": [
    "Есть вброс в районе 200 000 рублей и 1.2 млн."
   ]
  },
  {
   "cell_type": "code",
   "execution_count": 35,
   "metadata": {},
   "outputs": [
    {
     "data": {
      "text/plain": [
       "array([18168. , 28000. , 58233.2])"
      ]
     },
     "execution_count": 35,
     "metadata": {},
     "output_type": "execute_result"
    }
   ],
   "source": [
    "# считаем персентели по строимости\n",
    "np.percentile(orders['revenue'], [90, 95, 99])"
   ]
  },
  {
   "cell_type": "markdown",
   "metadata": {},
   "source": [
    "Не более 5% пользователей заказывают свыше 28 000 рублей и не более 1% свыше 58 233 рублей."
   ]
  },
  {
   "cell_type": "markdown",
   "metadata": {},
   "source": [
    "<div class=\"alert alert-success\">\n",
    "<b>Комментарий ревьюера ✔️:</b> 👍верно"
   ]
  },
  {
   "cell_type": "markdown",
   "metadata": {},
   "source": [
    "Разумнее всего взять пользователей соверших не более 2-ух заказов и с чеками не более 30 000 руб."
   ]
  },
  {
   "cell_type": "markdown",
   "metadata": {},
   "source": [
    "### Статистическая значимость"
   ]
  },
  {
   "cell_type": "code",
   "execution_count": 36,
   "metadata": {},
   "outputs": [],
   "source": [
    "# расчитаем статистическую значимость различия конверсий неочищенных данных\n",
    "# посчитаем сумму посещений по по датам и группам\n",
    "visitorsADaily = visitors[visitors['group'] == 'A'][['date', 'visitors']]\n",
    "visitorsADaily.columns = ['date', 'visitorsPerDateA']\n",
    "\n",
    "visitorsACummulative = visitorsADaily.apply(\n",
    "    lambda x: visitorsADaily[visitorsADaily['date'] <= x['date']].agg(\n",
    "        {'date': 'max', 'visitorsPerDateA': 'sum'}\n",
    "    ),\n",
    "    axis=1,\n",
    ")\n",
    "visitorsACummulative.columns = ['date', 'visitorsCummulativeA']\n",
    "\n",
    "visitorsBDaily = visitors[visitors['group'] == 'B'][['date', 'visitors']]\n",
    "visitorsBDaily.columns = ['date', 'visitorsPerDateB']\n",
    "\n",
    "visitorsBCummulative = visitorsBDaily.apply(\n",
    "    lambda x: visitorsBDaily[visitorsBDaily['date'] <= x['date']].agg(\n",
    "        {'date': 'max', 'visitorsPerDateB': 'sum'}\n",
    "    ),\n",
    "    axis=1,\n",
    ")\n",
    "visitorsBCummulative.columns = ['date', 'visitorsCummulativeB']\n",
    "\n",
    "\n",
    "# посчитаем сумму выручки по по датам и пользователям\n",
    "ordersADaily = (\n",
    "    orders[orders['group'] == 'A'][['date', 'transaction_id', 'visitor_id', 'revenue']]\n",
    "    .groupby('date', as_index=False)\n",
    "    .agg({'transaction_id': pd.Series.nunique, 'revenue': 'sum'})\n",
    ")\n",
    "ordersADaily.columns = ['date', 'ordersPerDateA', 'revenuePerDateA']\n",
    "\n",
    "ordersACummulative = ordersADaily.apply(\n",
    "    lambda x: ordersADaily[ordersADaily['date'] <= x['date']].agg(\n",
    "        {'date': 'max', 'ordersPerDateA': 'sum', 'revenuePerDateA': 'sum'}\n",
    "    ),\n",
    "    axis=1,\n",
    ").sort_values(by=['date'])\n",
    "ordersACummulative.columns = [\n",
    "    'date',\n",
    "    'ordersCummulativeA',\n",
    "    'revenueCummulativeA',\n",
    "]\n",
    "\n",
    "ordersBDaily = (\n",
    "    orders[orders['group'] == 'B'][['date', 'transaction_id', 'visitor_id', 'revenue']]\n",
    "    .groupby('date', as_index=False)\n",
    "    .agg({'transaction_id': pd.Series.nunique, 'revenue': 'sum'})\n",
    ")\n",
    "ordersBDaily.columns = ['date', 'ordersPerDateB', 'revenuePerDateB']\n",
    "\n",
    "ordersBCummulative = ordersBDaily.apply(\n",
    "    lambda x: ordersBDaily[ordersBDaily['date'] <= x['date']].agg(\n",
    "        {'date': 'max', 'ordersPerDateB': 'sum', 'revenuePerDateB': 'sum'}\n",
    "    ),\n",
    "    axis=1,\n",
    ").sort_values(by=['date'])\n",
    "ordersBCummulative.columns = [\n",
    "    'date',\n",
    "    'ordersCummulativeB',\n",
    "    'revenueCummulativeB',\n",
    "]\n",
    "\n"
   ]
  },
  {
   "cell_type": "code",
   "execution_count": 37,
   "metadata": {},
   "outputs": [],
   "source": [
    "# Создадим переменные ordersByUsersA и ordersByUsersB. \n",
    "# В них для пользователей, которые заказывали хотя бы 1 раз, укажем число совершённых заказов.\n",
    "ordersByUsersA = (\n",
    "    orders[orders['group'] == 'A']\n",
    "    .groupby('visitor_id', as_index=False)\n",
    "    .agg({'transaction_id': pd.Series.nunique})\n",
    ")\n",
    "ordersByUsersA.columns = ['visitor_id', 'orders']\n",
    "\n",
    "ordersByUsersB = (\n",
    "    orders[orders['group'] == 'B']\n",
    "    .groupby('visitor_id', as_index=False)\n",
    "    .agg({'transaction_id': pd.Series.nunique})\n",
    ")\n",
    "ordersByUsersB.columns = ['visitor_id', 'orders']"
   ]
  },
  {
   "cell_type": "code",
   "execution_count": 38,
   "metadata": {},
   "outputs": [
    {
     "name": "stdout",
     "output_type": "stream",
     "text": [
      "p-value: 0.01679\n",
      "Отношениение: 0.138\n"
     ]
    }
   ],
   "source": [
    "# Создадим переменные sampleA и sampleB и посчитаем статистическую значимость коммулятивных конверсий разных групп.\n",
    "sampleA = pd.concat([ordersByUsersA['orders'],pd.Series(0, index=np.arange(visitors[visitors['group']=='A']['visitors'].sum() - len(ordersByUsersA['orders'])), name='orders')],axis=0)\n",
    "\n",
    "sampleB = pd.concat([ordersByUsersB['orders'],pd.Series(0, index=np.arange(visitors[visitors['group']=='B']['visitors'].sum() - len(ordersByUsersB['orders'])), name='orders')],axis=0)\n",
    "\n",
    "\n",
    "\n",
    "print('p-value:', \"{0:.5f}\".format(st.mannwhitneyu(sampleA, sampleB)[1]))\n",
    "\n",
    "print('Отношениение:', \"{0:.3f}\".format(sampleB.mean() / sampleA.mean() - 1))"
   ]
  },
  {
   "cell_type": "markdown",
   "metadata": {},
   "source": [
    "<div class=\"alert alert-danger\">\n",
    "<s><b>Комментарий ревьюера ❌:</b> плохая практика писать такие большие ячейки с кодом, это усложняет чтение и проверку кода. Разбей её, пожалуйста, на несколько логических блоков.\n",
    "    \n",
    "И внутри ячейки формируется таблица data - она лишняя. Дальше она используется только для извлечения столбца ['visitorsPerDateA/В'], но эта же информация у нас есть в таблице visitors. "
   ]
  },
  {
   "cell_type": "markdown",
   "metadata": {},
   "source": [
    "<div class=\"alert alert-info\">\n",
    "<b>Комментарий студента: </b> Таблицу удалила, ячейки поделила.  .</div> "
   ]
  },
  {
   "cell_type": "markdown",
   "metadata": {},
   "source": [
    "<div class=\"alert alert-success\">\n",
    "<b>2V Комментарий ревьюера ✔️✔️:</b> 😺 👍 супер! получилось отлично"
   ]
  },
  {
   "cell_type": "markdown",
   "metadata": {},
   "source": [
    "p-value < 0.05, что говорит. Значит, нулевую гипотезу о том, что статистически значимых различий в конверсии между группами нет, отвергаем. Относительный выигрыш группы B равен 13.8%"
   ]
  },
  {
   "cell_type": "markdown",
   "metadata": {},
   "source": [
    "<div class=\"alert alert-success\">\n",
    "<b>Комментарий ревьюера ✔️:</b> 👍 проверка проведена верно"
   ]
  },
  {
   "cell_type": "code",
   "execution_count": 39,
   "metadata": {},
   "outputs": [
    {
     "name": "stdout",
     "output_type": "stream",
     "text": [
      "p-value: 0.729\n",
      "Отношениение: 0.259\n"
     ]
    }
   ],
   "source": [
    "# расчитаем статистическую значимость различия среднего чека неочищенных данных\n",
    "print('p-value:', '{0:.3f}'.format(st.mannwhitneyu(orders[orders['group']=='A']['revenue'], orders[orders['group']=='B']['revenue'])[1]))\n",
    "print('Отношениение:', '{0:.3f}'.format(orders[orders['group']=='B']['revenue'].mean()/orders[orders['group']=='A']['revenue'].mean()-1))"
   ]
  },
  {
   "cell_type": "markdown",
   "metadata": {},
   "source": [
    "P-value больше 0.05, следовательно между группами нет статистически значимого различия по среднему чеку по \"сырым\" данным, несмотря на относительную разницу почти в 26%"
   ]
  },
  {
   "cell_type": "markdown",
   "metadata": {},
   "source": [
    "<div class=\"alert alert-warning\">\n",
    "<b>Комментарий ревьюера ⚠️:</b> Более корректная формулировка:\n",
    "P-value больше 0.05, следовательно между группами нет статистически значимого различия по среднему чеку по \"сырым\" данным, несмотря на относительную разницу почти в 26%</div>"
   ]
  },
  {
   "cell_type": "markdown",
   "metadata": {},
   "source": [
    "<div class=\"alert alert-info\">\n",
    "<b>Комментарий студента:</b> Изменила, спасибо .</div> "
   ]
  },
  {
   "cell_type": "markdown",
   "metadata": {},
   "source": [
    "<div class=\"alert alert-success\">\n",
    "<b>2V Комментарий ревьюера ✔️✔️:</b> 😺 👍 теперь всё верно"
   ]
  },
  {
   "cell_type": "markdown",
   "metadata": {},
   "source": [
    "### Статистическая значимость очищенных данных (без аномальных значений)."
   ]
  },
  {
   "cell_type": "markdown",
   "metadata": {},
   "source": [
    "<div class=\"alert alert-danger\">\n",
    "<s><b>Комментарий ревьюера ❌:</b> здесь очень не хватает заголовка раздела и поясения, что будет происходить дальше"
   ]
  },
  {
   "cell_type": "markdown",
   "metadata": {},
   "source": [
    "<div class=\"alert alert-info\">\n",
    "<b>Комментарий студента:</b> .</div> "
   ]
  },
  {
   "cell_type": "markdown",
   "metadata": {},
   "source": [
    "<div class=\"alert alert-success\">\n",
    "<b>2V Комментарий ревьюера ✔️✔️:</b> 😺 👍"
   ]
  },
  {
   "cell_type": "code",
   "execution_count": 40,
   "metadata": {},
   "outputs": [
    {
     "data": {
      "text/plain": [
       "1099     148427295\n",
       "18       199603092\n",
       "23       237748145\n",
       "37       249864742\n",
       "42       366673373\n",
       "           ...    \n",
       "743     4133034833\n",
       "562     4134830387\n",
       "571     4186807279\n",
       "499     4256040402\n",
       "662     4266935830\n",
       "Name: visitor_id, Length: 78, dtype: int64"
      ]
     },
     "execution_count": 40,
     "metadata": {},
     "output_type": "execute_result"
    }
   ],
   "source": [
    "# выведим аномальные значения\n",
    "usersWithManyOrders = pd.concat(\n",
    "    [\n",
    "        ordersByUsersA[ordersByUsersA['orders'] >= np.percentile(ordersByUsers['orders'], 95 )]['visitor_id'],\n",
    "        ordersByUsersB[ordersByUsersB['orders'] >= np.percentile(ordersByUsers['orders'], 95 )]['visitor_id'],\n",
    "    ],\n",
    "    axis=0,\n",
    ")\n",
    "usersWithExpensiveOrders = orders[orders['revenue'] > np.percentile(orders['revenue'], 98 )]['visitor_id']\n",
    "abnormalUsers = (\n",
    "    pd.concat([usersWithManyOrders, usersWithExpensiveOrders], axis=0)\n",
    "    .drop_duplicates()\n",
    "    .sort_values()\n",
    ")\n",
    "abnormalUsers\n"
   ]
  },
  {
   "cell_type": "markdown",
   "metadata": {},
   "source": [
    "<div class=\"alert alert-danger\">\n",
    "<s><b>Комментарий ревьюера ❌:</b> Не желательно использовать в коде константы (т.н.хардкодинг), это повышает риск ошибок при повторном использовании кода на других данных. Замени, пожалуйста, числа на код, их вычисляющий (перцентили).\n",
    "    \n",
    "И в качестве границ для отсечения аномальных заказов лучше использовать не просто числа, близкие к расчетным перцентилям, а конкретные перцентили (можно взять любой - и 98-й, и 90-й). Тогда в будущем при защите исследования будет проще ответить на вопрос, на основании чего выбрана граница.    "
   ]
  },
  {
   "cell_type": "markdown",
   "metadata": {},
   "source": [
    "<div class=\"alert alert-info\">\n",
    "<b>Комментарий студента:</b> Исправлено.</div> "
   ]
  },
  {
   "cell_type": "markdown",
   "metadata": {},
   "source": [
    "<div class=\"alert alert-success\">\n",
    "<b>2V Комментарий ревьюера ✔️✔️:</b> 😺 👍 отлично, всё верно"
   ]
  },
  {
   "cell_type": "code",
   "execution_count": 41,
   "metadata": {},
   "outputs": [
    {
     "name": "stdout",
     "output_type": "stream",
     "text": [
      "p-value: 0.00878\n",
      "Отношение:0.180\n"
     ]
    }
   ],
   "source": [
    "# расчитаем статистическую значимость различия конверсий очищенных данных\n",
    "sampleAFiltered = pd.concat(\n",
    "    [\n",
    "        ordersByUsersA[\n",
    "            np.logical_not(ordersByUsersA['visitor_id'].isin(abnormalUsers))\n",
    "        ]['orders'],\n",
    "        pd.Series(\n",
    "            0,\n",
    "            index=np.arange(\n",
    "                visitors[visitors['group']=='A']['visitors'].sum() - len(ordersByUsersA['orders'])\n",
    "            ),\n",
    "            name='orders',\n",
    "        ),\n",
    "    ],\n",
    "    axis=0,\n",
    ")\n",
    "\n",
    "sampleBFiltered = pd.concat(\n",
    "    [\n",
    "        ordersByUsersB[\n",
    "            np.logical_not(ordersByUsersB['visitor_id'].isin(abnormalUsers))\n",
    "        ]['orders'],\n",
    "        pd.Series(\n",
    "            0,\n",
    "            index=np.arange(\n",
    "                visitors[visitors['group']=='B']['visitors'].sum() - len(ordersByUsersB['orders'])\n",
    "            ),\n",
    "            name='orders',\n",
    "        ),\n",
    "    ],\n",
    "    axis=0,\n",
    ")\n",
    "print('p-value:','{0:.5f}'.format(st.mannwhitneyu(sampleAFiltered, sampleBFiltered)[1]))\n",
    "print('Отношение:''{0:.3f}'.format(sampleBFiltered.mean()/sampleAFiltered.mean()-1))"
   ]
  },
  {
   "cell_type": "markdown",
   "metadata": {},
   "source": [
    "p-value стал еще меньше. А конверсия группы В стала выигрывать еще больше."
   ]
  },
  {
   "cell_type": "markdown",
   "metadata": {},
   "source": [
    "<div class=\"alert alert-success\">\n",
    "<b>Комментарий ревьюера ✔️:</b> 👍 проверка проведена верно"
   ]
  },
  {
   "cell_type": "code",
   "execution_count": 42,
   "metadata": {},
   "outputs": [
    {
     "name": "stdout",
     "output_type": "stream",
     "text": [
      "p-value: 0.88752\n",
      "Отношение: 0.05307\n"
     ]
    }
   ],
   "source": [
    "# расчитаем статистическую значимость различия среднего чека очищенных данных\n",
    "print('p-value:',\n",
    "    '{0:.5f}'.format(\n",
    "        st.mannwhitneyu(\n",
    "            orders[\n",
    "                np.logical_and(\n",
    "                    orders['group'] == 'A',\n",
    "                    np.logical_not(orders['visitor_id'].isin(abnormalUsers)),\n",
    "                )\n",
    "            ]['revenue'],\n",
    "            orders[\n",
    "                np.logical_and(\n",
    "                    orders['group'] == 'B',\n",
    "                    np.logical_not(orders['visitor_id'].isin(abnormalUsers)),\n",
    "                )\n",
    "            ]['revenue'],\n",
    "        )[1]\n",
    "    )\n",
    ")\n",
    "\n",
    "print('Отношение:',\n",
    "    \"{0:.5f}\".format(\n",
    "        orders[\n",
    "            np.logical_and(\n",
    "                orders['group'] == 'B',\n",
    "                np.logical_not(orders['visitor_id'].isin(abnormalUsers)),\n",
    "            )\n",
    "        ]['revenue'].mean()\n",
    "        / orders[\n",
    "            np.logical_and(\n",
    "                orders['group'] == 'A',\n",
    "                np.logical_not(orders['visitor_id'].isin(abnormalUsers)),\n",
    "            )\n",
    "        ]['revenue'].mean()\n",
    "        - 1\n",
    "    )\n",
    ")"
   ]
  },
  {
   "cell_type": "markdown",
   "metadata": {},
   "source": [
    "p-value стал еще выше, а вот по среднему чеку группа В стала выигрывать намного меньше.."
   ]
  },
  {
   "cell_type": "markdown",
   "metadata": {},
   "source": [
    "<div class=\"alert alert-success\">\n",
    "<b>Комментарий ревьюера ✔️:</b> 👍 проверка проведена верно"
   ]
  },
  {
   "cell_type": "markdown",
   "metadata": {},
   "source": [
    "**Вывод:** \n",
    "- Есть статистически значимые различия по конверсии между группами по «сырым», и по данным после фильтрации аномалий.\n",
    "- Нет статистически значимого различия по среднему чеку между группами ни по «сырым», ни по данным после фильтрации аномалий.\n",
    "- Группа В почти по всем показателям лучше группы А и на графиках видно что значения стабилизировались. "
   ]
  },
  {
   "cell_type": "markdown",
   "metadata": {},
   "source": [
    "### Результат теста и принятие решения"
   ]
  },
  {
   "cell_type": "markdown",
   "metadata": {},
   "source": [
    "- Есть статистически значимые различия по конверсии между группами по «сырым», и по данным после фильтрации аномалий.\n",
    "- Нет статистически значимого различия по среднему чеку между группами ни по «сырым», ни по данным после фильтрации аномалий.\n",
    "- График различия конверсии между группами сообщает, что результаты группы B лучше группы A: имеют тенденцию к росту, либо зафиксировались около среднего значения.\n",
    "- График различия среднего чека колеблется: он-то и позволил вам найти аномалии. Но колеблется он в плюсовых значениях.\n",
    "\n",
    "\n",
    "**Тест можно остановить и признать его успешным. Группа B статистически значимо лучше группы A по обеим метрикам, а график конверсии говорит о фиксации результата.**"
   ]
  },
  {
   "cell_type": "markdown",
   "metadata": {},
   "source": [
    "<div class=\"alert alert-success\">\n",
    "<b>Комментарий ревьюера ✔️:</b> 👍 выводы полные и корректные"
   ]
  },
  {
   "cell_type": "markdown",
   "metadata": {},
   "source": [
    "<div class=\"alert alert-danger\">\n",
    "<s><b>Комментарий ревьюера ❌:</b> Разве группа В статистически значимо лучше по обеим метрикам? Ведь проверка гипотез показала, что различия в среднем чеке не имеют статистической значимости."
   ]
  },
  {
   "cell_type": "markdown",
   "metadata": {},
   "source": [
    "<div class=\"alert alert-info\">\n",
    "<b>Комментарий студента:</b>  Исправлено.</div> "
   ]
  },
  {
   "cell_type": "markdown",
   "metadata": {},
   "source": [
    "## Вывод"
   ]
  },
  {
   "cell_type": "markdown",
   "metadata": {},
   "source": [
    "1. Выгрузили 3 датасета, проверили на дубликаты, переименовали названия колонок для удобства, преобразовали тип данных, где это было необходимо. Пропусков не обнаружено. \n",
    "2. Провели приоритезацию гипотез 2-мя методами:\n",
    "- по критерию ICE  впереди гипотезы: 8(Запустить акцию, дающую скидку на товар в день рождения),0(Добавить два новых канала привлечения трафика, что позволит привлекать на 30% больше пользователей),7(Добавить форму подписки на все основные страницы, чтобы собрать базу клиентов для email-рассылок). Влияние и уверенность в этих гипотезах высокие, а затраты средние.\n",
    "- по критерию RICE на первых местах гипотезы: 7(Добавить форму подписки на все основные страницы, чтобы собрать базу клиентов для email-рассылок),2(Добавить блоки рекомендаций товаров на сайт интернет магазина, чтобы повысить конверсию и средний чек заказа),0(Добавить два новых канала привлечения трафика, что позволит привлекать на 30% больше пользователей). На гипотезы 7,2 повлиял показатель охват пользователей. Гипотеза 7 имеет максимальный балл охвата, то есть она захватит большинство людей. \n",
    "\n",
    "На основании этих критериев в проиоритете гипотезы:\n",
    "- 7(Добавить форму подписки на все основные страницы, чтобы собрать базу клиентов для email-рассылок),\n",
    "- 0(Добавить два новых канала привлечения трафика, что позволит привлекать на 30% больше пользователей).\n",
    "\n",
    "<div class=\"alert alert-danger\">\n",
    "<s><b>Комментарий ревьюера ❌:</b> здесь нужно заменить номера на полные формулировки гипотез</div></s>\n",
    "\n",
    "<div class=\"alert alert-info\">\n",
    "<b>Комментарий студента:</b> Исправлено.</div> \n",
    "\n",
    "3. Провели анализ А/В теста\n",
    "- Есть статистически значимые различия по конверсии между группами по «сырым», и по данным после фильтрации аномалий.\n",
    "- Нет статистически значимого различия по среднему чеку между группами ни по «сырым», ни по данным после фильтрации аномалий.\n",
    "- График различия конверсии между группами сообщает, что результаты группы B лучше группы A: имеют тенденцию к росту, либо зафиксировались около среднего значения.\n",
    "- График различия среднего чека колеблется: он-то и позволил вам найти аномалии. Но колеблется он в плюсовых значениях.\n",
    "\n",
    "На основании анализа теста принято решение, что : **Тест можно остановить и признать его успешным. Группа B статистически значимо лучше группы A по конверсии, а так же график конверсии говорит о фиксации результата. В среднем чеке нет статичсчитческой значимости по различиям, хоть и средний чек группы B значительно выше среднего чека группы A.**"
   ]
  },
  {
   "cell_type": "markdown",
   "metadata": {},
   "source": [
    "<div class=\"alert alert-warning\">\n",
    "<b>2V Комментарий ревьюера ⚠️⚠️:</b> Здесь всё ещё осталась погрешность в формулировке последнего предложения. Хотя у нас и получилась большая относительная разница в среднем чеке по очищенным данным, но это различие носит случайный характер, оно получилось на счет нескольких аномально больших заказов. Поэтому мы не можем сказать, что средний чек В значительно выше среднего чека группы А. Статистически они не отличаются."
   ]
  },
  {
   "cell_type": "markdown",
   "metadata": {},
   "source": [
    "<div class=\"alert alert-success\">\n",
    "<b>Комментарий ревьюера ✔️:</b> 👍 Здорово, что есть общие полные выводы. Они нуждаются в небольших корректировках."
   ]
  },
  {
   "cell_type": "markdown",
   "metadata": {},
   "source": [
    "<font size = \"4\">\n",
    "\n",
    "**Комментарий ревьюера**\n",
    "\n",
    "Оксана, спасибо за хороший проект. Расчетная часть и графики сделаны верно. Есть некоторые недочеты, которые я отметила красными комментариями. Исправь их, пожалуйста, чтобы я могла принять твою работу.\n",
    "    \n",
    "Если будет время, то желтые комментарии тоже можно применить прямо в этой работе или учесть их на будущее.\n",
    "    \n",
    "\n",
    "Если у тебя есть какие-то вопросы по комментариям или по проекту, напиши их также в своих комментариях, я постараюсь ответить."
   ]
  },
  {
   "cell_type": "markdown",
   "metadata": {},
   "source": [
    "<font size = \"4\">\n",
    "\n",
    "**Комментарий ревьюера**\n",
    "\n",
    "Оксана, спасибо за исправления. Я оставила несколько желтых комментариев с пожеланиями и корректировками. Если ты будешь публиковать свой проект в портфолио, то эти моменты также нужно исправить. \n",
    "    \n",
    "Следующий проект будет связан с геоданными. До него ты можешь изучить/покрутить/посмотреть разные модули, которые смогут помочь в выполнении работы:  \n",
    "— модуль folium для визуализации геоданных на карте — https://dev-gang.ru/article/interaktivnaja-vizualizacija-geo-dannyh-na-python-9yqzq8qlud/  \n",
    "— модуль для сервиса Геокодер от Яндекса: https://pypi.org/project/yandex-geocoder/  \n",
    "— модуль для сервиса замечательной российской компании Dadata: https://pypi.org/project/dadata/  \n",
    "    \n",
    "Так же в новом проекте будет задание по составлению презентации, для него ты можешь пройти новый бесплатный курс от Яндекс.Практикума — https://praktikum.yandex.ru/profile/visual-presentation/  "
   ]
  },
  {
   "cell_type": "code",
   "execution_count": null,
   "metadata": {},
   "outputs": [],
   "source": []
  }
 ],
 "metadata": {
  "ExecuteTimeLog": [
   {
    "duration": 4,
    "start_time": "2022-06-03T05:39:00.392Z"
   },
   {
    "duration": 1666,
    "start_time": "2022-06-03T05:45:40.135Z"
   },
   {
    "duration": 4,
    "start_time": "2022-06-03T05:45:41.803Z"
   },
   {
    "duration": 213,
    "start_time": "2022-06-03T05:45:41.809Z"
   },
   {
    "duration": 15,
    "start_time": "2022-06-03T05:45:53.977Z"
   },
   {
    "duration": 13,
    "start_time": "2022-06-03T05:46:10.159Z"
   },
   {
    "duration": 11,
    "start_time": "2022-06-03T05:46:39.396Z"
   },
   {
    "duration": 10,
    "start_time": "2022-06-03T05:46:51.648Z"
   },
   {
    "duration": 8,
    "start_time": "2022-06-03T05:47:40.315Z"
   },
   {
    "duration": 15,
    "start_time": "2022-06-03T05:47:58.675Z"
   },
   {
    "duration": 9,
    "start_time": "2022-06-03T05:48:11.830Z"
   },
   {
    "duration": 9,
    "start_time": "2022-06-03T05:48:29.707Z"
   },
   {
    "duration": 1141,
    "start_time": "2022-06-03T05:53:22.205Z"
   },
   {
    "duration": 4,
    "start_time": "2022-06-03T05:53:23.348Z"
   },
   {
    "duration": 81,
    "start_time": "2022-06-03T05:53:23.353Z"
   },
   {
    "duration": 12,
    "start_time": "2022-06-03T05:53:23.436Z"
   },
   {
    "duration": 119,
    "start_time": "2022-06-03T05:53:23.450Z"
   },
   {
    "duration": 0,
    "start_time": "2022-06-03T05:53:23.571Z"
   },
   {
    "duration": 0,
    "start_time": "2022-06-03T05:53:23.572Z"
   },
   {
    "duration": 0,
    "start_time": "2022-06-03T05:53:23.573Z"
   },
   {
    "duration": 0,
    "start_time": "2022-06-03T05:53:23.574Z"
   },
   {
    "duration": 0,
    "start_time": "2022-06-03T05:53:23.576Z"
   },
   {
    "duration": 0,
    "start_time": "2022-06-03T05:53:23.577Z"
   },
   {
    "duration": 0,
    "start_time": "2022-06-03T05:53:23.578Z"
   },
   {
    "duration": 9,
    "start_time": "2022-06-03T05:53:54.810Z"
   },
   {
    "duration": 5,
    "start_time": "2022-06-03T06:03:57.731Z"
   },
   {
    "duration": 19,
    "start_time": "2022-06-03T06:04:00.601Z"
   },
   {
    "duration": 12,
    "start_time": "2022-06-03T06:04:08.513Z"
   },
   {
    "duration": 13,
    "start_time": "2022-06-03T06:05:21.761Z"
   },
   {
    "duration": 19,
    "start_time": "2022-06-03T06:05:42.459Z"
   },
   {
    "duration": 14,
    "start_time": "2022-06-03T06:06:43.193Z"
   },
   {
    "duration": 8,
    "start_time": "2022-06-03T06:07:05.882Z"
   },
   {
    "duration": 11,
    "start_time": "2022-06-03T06:07:08.005Z"
   },
   {
    "duration": 10,
    "start_time": "2022-06-03T06:07:18.753Z"
   },
   {
    "duration": 7,
    "start_time": "2022-06-03T06:07:27.265Z"
   },
   {
    "duration": 7,
    "start_time": "2022-06-03T06:21:02.725Z"
   },
   {
    "duration": 52,
    "start_time": "2022-06-03T06:24:28.960Z"
   },
   {
    "duration": 11,
    "start_time": "2022-06-03T06:24:41.931Z"
   },
   {
    "duration": 13,
    "start_time": "2022-06-03T06:26:12.959Z"
   },
   {
    "duration": 103,
    "start_time": "2022-06-03T06:53:53.135Z"
   },
   {
    "duration": 1129,
    "start_time": "2022-06-03T06:57:30.502Z"
   },
   {
    "duration": 2,
    "start_time": "2022-06-03T06:57:31.634Z"
   },
   {
    "duration": 94,
    "start_time": "2022-06-03T06:57:31.638Z"
   },
   {
    "duration": 11,
    "start_time": "2022-06-03T06:57:31.734Z"
   },
   {
    "duration": 30,
    "start_time": "2022-06-03T06:57:31.747Z"
   },
   {
    "duration": 17,
    "start_time": "2022-06-03T06:57:31.779Z"
   },
   {
    "duration": 12,
    "start_time": "2022-06-03T06:57:31.798Z"
   },
   {
    "duration": 23,
    "start_time": "2022-06-03T06:57:31.812Z"
   },
   {
    "duration": 17,
    "start_time": "2022-06-03T06:57:31.837Z"
   },
   {
    "duration": 14,
    "start_time": "2022-06-03T06:57:31.857Z"
   },
   {
    "duration": 17,
    "start_time": "2022-06-03T06:57:31.873Z"
   },
   {
    "duration": 13,
    "start_time": "2022-06-03T06:57:31.892Z"
   },
   {
    "duration": 9,
    "start_time": "2022-06-03T06:57:31.907Z"
   },
   {
    "duration": 0,
    "start_time": "2022-06-03T06:57:31.918Z"
   },
   {
    "duration": 0,
    "start_time": "2022-06-03T06:57:31.920Z"
   },
   {
    "duration": 0,
    "start_time": "2022-06-03T06:57:31.921Z"
   },
   {
    "duration": 4,
    "start_time": "2022-06-03T06:58:26.202Z"
   },
   {
    "duration": 34,
    "start_time": "2022-06-03T06:58:55.823Z"
   },
   {
    "duration": 196,
    "start_time": "2022-06-03T07:01:30.943Z"
   },
   {
    "duration": 119,
    "start_time": "2022-06-03T07:02:42.512Z"
   },
   {
    "duration": 1143,
    "start_time": "2022-06-03T07:05:20.202Z"
   },
   {
    "duration": 3,
    "start_time": "2022-06-03T07:05:21.351Z"
   },
   {
    "duration": 92,
    "start_time": "2022-06-03T07:05:21.356Z"
   },
   {
    "duration": 13,
    "start_time": "2022-06-03T07:05:21.450Z"
   },
   {
    "duration": 9,
    "start_time": "2022-06-03T07:05:21.465Z"
   },
   {
    "duration": 14,
    "start_time": "2022-06-03T07:05:21.476Z"
   },
   {
    "duration": 11,
    "start_time": "2022-06-03T07:05:21.492Z"
   },
   {
    "duration": 15,
    "start_time": "2022-06-03T07:05:21.505Z"
   },
   {
    "duration": 7,
    "start_time": "2022-06-03T07:05:21.522Z"
   },
   {
    "duration": 10,
    "start_time": "2022-06-03T07:05:21.552Z"
   },
   {
    "duration": 10,
    "start_time": "2022-06-03T07:05:21.563Z"
   },
   {
    "duration": 7,
    "start_time": "2022-06-03T07:05:21.575Z"
   },
   {
    "duration": 149,
    "start_time": "2022-06-03T07:05:21.583Z"
   },
   {
    "duration": 0,
    "start_time": "2022-06-03T07:05:21.733Z"
   },
   {
    "duration": 0,
    "start_time": "2022-06-03T07:05:21.734Z"
   },
   {
    "duration": 0,
    "start_time": "2022-06-03T07:05:21.735Z"
   },
   {
    "duration": 20,
    "start_time": "2022-06-03T07:06:03.174Z"
   },
   {
    "duration": 14,
    "start_time": "2022-06-03T07:08:48.897Z"
   },
   {
    "duration": 74,
    "start_time": "2022-06-03T07:08:54.503Z"
   },
   {
    "duration": 11,
    "start_time": "2022-06-03T07:08:57.997Z"
   },
   {
    "duration": 93,
    "start_time": "2022-06-03T07:09:02.664Z"
   },
   {
    "duration": 28,
    "start_time": "2022-06-03T07:10:06.344Z"
   },
   {
    "duration": 1197,
    "start_time": "2022-06-03T07:12:03.048Z"
   },
   {
    "duration": 5,
    "start_time": "2022-06-03T07:12:04.247Z"
   },
   {
    "duration": 93,
    "start_time": "2022-06-03T07:12:04.254Z"
   },
   {
    "duration": 11,
    "start_time": "2022-06-03T07:12:04.349Z"
   },
   {
    "duration": 9,
    "start_time": "2022-06-03T07:12:04.361Z"
   },
   {
    "duration": 15,
    "start_time": "2022-06-03T07:12:04.371Z"
   },
   {
    "duration": 15,
    "start_time": "2022-06-03T07:12:04.388Z"
   },
   {
    "duration": 22,
    "start_time": "2022-06-03T07:12:04.405Z"
   },
   {
    "duration": 5,
    "start_time": "2022-06-03T07:12:04.429Z"
   },
   {
    "duration": 20,
    "start_time": "2022-06-03T07:12:04.437Z"
   },
   {
    "duration": 9,
    "start_time": "2022-06-03T07:12:04.459Z"
   },
   {
    "duration": 8,
    "start_time": "2022-06-03T07:12:04.470Z"
   },
   {
    "duration": 16,
    "start_time": "2022-06-03T07:12:04.479Z"
   },
   {
    "duration": 15,
    "start_time": "2022-06-03T07:12:04.496Z"
   },
   {
    "duration": 15,
    "start_time": "2022-06-03T07:12:04.512Z"
   },
   {
    "duration": 212,
    "start_time": "2022-06-03T07:12:04.528Z"
   },
   {
    "duration": 24,
    "start_time": "2022-06-03T07:12:36.716Z"
   },
   {
    "duration": 3,
    "start_time": "2022-06-03T07:13:06.147Z"
   },
   {
    "duration": 13,
    "start_time": "2022-06-03T07:13:13.046Z"
   },
   {
    "duration": 6,
    "start_time": "2022-06-03T07:13:14.398Z"
   },
   {
    "duration": 10,
    "start_time": "2022-06-03T07:13:14.851Z"
   },
   {
    "duration": 8,
    "start_time": "2022-06-03T07:13:15.105Z"
   },
   {
    "duration": 7,
    "start_time": "2022-06-03T07:13:15.345Z"
   },
   {
    "duration": 158,
    "start_time": "2022-06-03T07:13:15.571Z"
   },
   {
    "duration": 1226,
    "start_time": "2022-06-03T07:13:44.804Z"
   },
   {
    "duration": 2,
    "start_time": "2022-06-03T07:13:46.032Z"
   },
   {
    "duration": 83,
    "start_time": "2022-06-03T07:13:46.036Z"
   },
   {
    "duration": 12,
    "start_time": "2022-06-03T07:13:46.122Z"
   },
   {
    "duration": 9,
    "start_time": "2022-06-03T07:13:46.136Z"
   },
   {
    "duration": 22,
    "start_time": "2022-06-03T07:13:46.147Z"
   },
   {
    "duration": 13,
    "start_time": "2022-06-03T07:13:46.170Z"
   },
   {
    "duration": 27,
    "start_time": "2022-06-03T07:13:46.184Z"
   },
   {
    "duration": 9,
    "start_time": "2022-06-03T07:13:46.213Z"
   },
   {
    "duration": 19,
    "start_time": "2022-06-03T07:13:46.224Z"
   },
   {
    "duration": 11,
    "start_time": "2022-06-03T07:13:46.245Z"
   },
   {
    "duration": 16,
    "start_time": "2022-06-03T07:13:46.258Z"
   },
   {
    "duration": 16,
    "start_time": "2022-06-03T07:13:46.275Z"
   },
   {
    "duration": 17,
    "start_time": "2022-06-03T07:13:46.293Z"
   },
   {
    "duration": 12,
    "start_time": "2022-06-03T07:13:46.312Z"
   },
   {
    "duration": 394,
    "start_time": "2022-06-03T07:13:46.325Z"
   },
   {
    "duration": 291,
    "start_time": "2022-06-03T07:14:05.659Z"
   },
   {
    "duration": 295,
    "start_time": "2022-06-03T07:15:23.447Z"
   },
   {
    "duration": 178,
    "start_time": "2022-06-03T07:16:37.557Z"
   },
   {
    "duration": 234,
    "start_time": "2022-06-03T07:19:13.311Z"
   },
   {
    "duration": 24,
    "start_time": "2022-06-03T07:23:30.691Z"
   },
   {
    "duration": 183,
    "start_time": "2022-06-03T07:24:23.592Z"
   },
   {
    "duration": 275,
    "start_time": "2022-06-03T07:31:24.295Z"
   },
   {
    "duration": 179,
    "start_time": "2022-06-03T07:34:56.658Z"
   },
   {
    "duration": 171,
    "start_time": "2022-06-03T07:35:04.067Z"
   },
   {
    "duration": 199,
    "start_time": "2022-06-03T07:35:48.712Z"
   },
   {
    "duration": 176,
    "start_time": "2022-06-03T07:37:40.510Z"
   },
   {
    "duration": 268,
    "start_time": "2022-06-03T07:41:37.069Z"
   },
   {
    "duration": 31,
    "start_time": "2022-06-03T07:42:46.284Z"
   },
   {
    "duration": 325,
    "start_time": "2022-06-03T07:43:06.945Z"
   },
   {
    "duration": 284,
    "start_time": "2022-06-03T07:46:01.869Z"
   },
   {
    "duration": 290,
    "start_time": "2022-06-03T07:46:09.516Z"
   },
   {
    "duration": 113,
    "start_time": "2022-06-03T07:49:41.552Z"
   },
   {
    "duration": 15,
    "start_time": "2022-06-03T07:50:45.299Z"
   },
   {
    "duration": 117,
    "start_time": "2022-06-03T07:51:25.505Z"
   },
   {
    "duration": 4,
    "start_time": "2022-06-03T07:53:30.495Z"
   },
   {
    "duration": 112,
    "start_time": "2022-06-03T07:56:34.823Z"
   },
   {
    "duration": 10,
    "start_time": "2022-06-03T07:59:04.278Z"
   },
   {
    "duration": 10,
    "start_time": "2022-06-03T07:59:54.409Z"
   },
   {
    "duration": 130,
    "start_time": "2022-06-03T08:00:20.333Z"
   },
   {
    "duration": 9,
    "start_time": "2022-06-03T08:02:32.888Z"
   },
   {
    "duration": 5,
    "start_time": "2022-06-03T08:02:44.157Z"
   },
   {
    "duration": 115,
    "start_time": "2022-06-03T09:14:10.889Z"
   },
   {
    "duration": 166,
    "start_time": "2022-06-03T09:14:52.384Z"
   },
   {
    "duration": 458,
    "start_time": "2022-06-03T09:16:06.880Z"
   },
   {
    "duration": 503,
    "start_time": "2022-06-03T09:17:00.925Z"
   },
   {
    "duration": 473,
    "start_time": "2022-06-03T09:20:22.648Z"
   },
   {
    "duration": 468,
    "start_time": "2022-06-03T09:21:26.819Z"
   },
   {
    "duration": 475,
    "start_time": "2022-06-03T09:21:36.654Z"
   },
   {
    "duration": 10,
    "start_time": "2022-06-03T09:37:34.954Z"
   },
   {
    "duration": 10,
    "start_time": "2022-06-03T09:37:49.935Z"
   },
   {
    "duration": 592,
    "start_time": "2022-06-03T09:47:43.737Z"
   },
   {
    "duration": 461,
    "start_time": "2022-06-03T09:48:27.185Z"
   },
   {
    "duration": 14,
    "start_time": "2022-06-03T09:48:40.824Z"
   },
   {
    "duration": 10,
    "start_time": "2022-06-03T09:49:13.312Z"
   },
   {
    "duration": 10,
    "start_time": "2022-06-03T09:49:24.399Z"
   },
   {
    "duration": 14,
    "start_time": "2022-06-03T09:51:43.877Z"
   },
   {
    "duration": 43,
    "start_time": "2022-06-03T09:51:51.024Z"
   },
   {
    "duration": 11,
    "start_time": "2022-06-03T09:52:14.451Z"
   },
   {
    "duration": 13,
    "start_time": "2022-06-03T09:55:45.958Z"
   },
   {
    "duration": 1175,
    "start_time": "2022-06-03T10:10:22.683Z"
   },
   {
    "duration": 6,
    "start_time": "2022-06-03T10:10:23.861Z"
   },
   {
    "duration": 97,
    "start_time": "2022-06-03T10:10:23.868Z"
   },
   {
    "duration": 12,
    "start_time": "2022-06-03T10:10:23.968Z"
   },
   {
    "duration": 18,
    "start_time": "2022-06-03T10:10:23.981Z"
   },
   {
    "duration": 21,
    "start_time": "2022-06-03T10:10:24.001Z"
   },
   {
    "duration": 15,
    "start_time": "2022-06-03T10:10:24.023Z"
   },
   {
    "duration": 13,
    "start_time": "2022-06-03T10:10:24.040Z"
   },
   {
    "duration": 31,
    "start_time": "2022-06-03T10:10:24.055Z"
   },
   {
    "duration": 12,
    "start_time": "2022-06-03T10:10:24.088Z"
   },
   {
    "duration": 28,
    "start_time": "2022-06-03T10:10:24.101Z"
   },
   {
    "duration": 10,
    "start_time": "2022-06-03T10:10:24.130Z"
   },
   {
    "duration": 45,
    "start_time": "2022-06-03T10:10:24.141Z"
   },
   {
    "duration": 23,
    "start_time": "2022-06-03T10:10:24.188Z"
   },
   {
    "duration": 13,
    "start_time": "2022-06-03T10:10:24.213Z"
   },
   {
    "duration": 391,
    "start_time": "2022-06-03T10:10:24.228Z"
   },
   {
    "duration": 334,
    "start_time": "2022-06-03T10:10:24.621Z"
   },
   {
    "duration": 210,
    "start_time": "2022-06-03T10:10:24.957Z"
   },
   {
    "duration": 372,
    "start_time": "2022-06-03T10:10:25.169Z"
   },
   {
    "duration": 223,
    "start_time": "2022-06-03T10:10:25.542Z"
   },
   {
    "duration": 320,
    "start_time": "2022-06-03T10:10:25.767Z"
   },
   {
    "duration": 12,
    "start_time": "2022-06-03T10:10:26.088Z"
   },
   {
    "duration": 151,
    "start_time": "2022-06-03T10:10:26.102Z"
   },
   {
    "duration": 7,
    "start_time": "2022-06-03T10:10:26.255Z"
   },
   {
    "duration": 49,
    "start_time": "2022-06-03T10:10:26.264Z"
   },
   {
    "duration": 154,
    "start_time": "2022-06-03T10:10:26.314Z"
   },
   {
    "duration": 5,
    "start_time": "2022-06-03T10:10:26.470Z"
   },
   {
    "duration": 536,
    "start_time": "2022-06-03T10:10:26.478Z"
   },
   {
    "duration": 11,
    "start_time": "2022-06-03T10:10:27.016Z"
   },
   {
    "duration": 24,
    "start_time": "2022-06-03T10:10:27.029Z"
   },
   {
    "duration": 37,
    "start_time": "2022-06-03T10:10:27.055Z"
   },
   {
    "duration": 15,
    "start_time": "2022-06-03T10:10:27.094Z"
   },
   {
    "duration": 1153,
    "start_time": "2022-06-03T10:24:37.392Z"
   },
   {
    "duration": 4,
    "start_time": "2022-06-03T10:24:38.548Z"
   },
   {
    "duration": 8,
    "start_time": "2022-06-03T10:24:38.554Z"
   },
   {
    "duration": 82,
    "start_time": "2022-06-03T10:24:38.563Z"
   },
   {
    "duration": 12,
    "start_time": "2022-06-03T10:24:38.647Z"
   },
   {
    "duration": 22,
    "start_time": "2022-06-03T10:24:38.661Z"
   },
   {
    "duration": 14,
    "start_time": "2022-06-03T10:24:38.685Z"
   },
   {
    "duration": 10,
    "start_time": "2022-06-03T10:24:38.700Z"
   },
   {
    "duration": 18,
    "start_time": "2022-06-03T10:24:38.712Z"
   },
   {
    "duration": 11,
    "start_time": "2022-06-03T10:24:38.732Z"
   },
   {
    "duration": 15,
    "start_time": "2022-06-03T10:24:38.745Z"
   },
   {
    "duration": 25,
    "start_time": "2022-06-03T10:24:38.762Z"
   },
   {
    "duration": 7,
    "start_time": "2022-06-03T10:24:38.789Z"
   },
   {
    "duration": 29,
    "start_time": "2022-06-03T10:24:38.799Z"
   },
   {
    "duration": 27,
    "start_time": "2022-06-03T10:24:38.831Z"
   },
   {
    "duration": 15,
    "start_time": "2022-06-03T10:24:38.860Z"
   },
   {
    "duration": 412,
    "start_time": "2022-06-03T10:24:38.877Z"
   },
   {
    "duration": 303,
    "start_time": "2022-06-03T10:24:39.291Z"
   },
   {
    "duration": 190,
    "start_time": "2022-06-03T10:24:39.596Z"
   },
   {
    "duration": 307,
    "start_time": "2022-06-03T10:24:39.788Z"
   },
   {
    "duration": 256,
    "start_time": "2022-06-03T10:24:40.096Z"
   },
   {
    "duration": 441,
    "start_time": "2022-06-03T10:24:40.354Z"
   },
   {
    "duration": 68,
    "start_time": "2022-06-03T10:24:40.797Z"
   },
   {
    "duration": 231,
    "start_time": "2022-06-03T10:24:40.867Z"
   },
   {
    "duration": 4,
    "start_time": "2022-06-03T10:24:41.152Z"
   },
   {
    "duration": 18,
    "start_time": "2022-06-03T10:24:41.158Z"
   },
   {
    "duration": 312,
    "start_time": "2022-06-03T10:24:41.177Z"
   },
   {
    "duration": 6,
    "start_time": "2022-06-03T10:24:41.491Z"
   },
   {
    "duration": 862,
    "start_time": "2022-06-03T10:24:41.499Z"
   },
   {
    "duration": 11,
    "start_time": "2022-06-03T10:24:42.362Z"
   },
   {
    "duration": 12,
    "start_time": "2022-06-03T10:24:42.375Z"
   },
   {
    "duration": 34,
    "start_time": "2022-06-03T10:24:42.389Z"
   },
   {
    "duration": 36,
    "start_time": "2022-06-03T10:24:42.425Z"
   },
   {
    "duration": 1200,
    "start_time": "2022-06-03T10:29:25.320Z"
   },
   {
    "duration": 2,
    "start_time": "2022-06-03T10:29:26.522Z"
   },
   {
    "duration": 10,
    "start_time": "2022-06-03T10:29:26.526Z"
   },
   {
    "duration": 79,
    "start_time": "2022-06-03T10:29:26.539Z"
   },
   {
    "duration": 11,
    "start_time": "2022-06-03T10:29:26.620Z"
   },
   {
    "duration": 9,
    "start_time": "2022-06-03T10:29:26.633Z"
   },
   {
    "duration": 22,
    "start_time": "2022-06-03T10:29:26.643Z"
   },
   {
    "duration": 10,
    "start_time": "2022-06-03T10:29:26.666Z"
   },
   {
    "duration": 21,
    "start_time": "2022-06-03T10:29:26.678Z"
   },
   {
    "duration": 12,
    "start_time": "2022-06-03T10:29:26.702Z"
   },
   {
    "duration": 14,
    "start_time": "2022-06-03T10:29:26.715Z"
   },
   {
    "duration": 11,
    "start_time": "2022-06-03T10:29:26.731Z"
   },
   {
    "duration": 12,
    "start_time": "2022-06-03T10:29:26.744Z"
   },
   {
    "duration": 15,
    "start_time": "2022-06-03T10:29:26.757Z"
   },
   {
    "duration": 13,
    "start_time": "2022-06-03T10:29:26.774Z"
   },
   {
    "duration": 10,
    "start_time": "2022-06-03T10:29:26.789Z"
   },
   {
    "duration": 378,
    "start_time": "2022-06-03T10:29:26.801Z"
   },
   {
    "duration": 285,
    "start_time": "2022-06-03T10:29:27.181Z"
   },
   {
    "duration": 181,
    "start_time": "2022-06-03T10:29:27.468Z"
   },
   {
    "duration": 303,
    "start_time": "2022-06-03T10:29:27.652Z"
   },
   {
    "duration": 188,
    "start_time": "2022-06-03T10:29:27.957Z"
   },
   {
    "duration": 316,
    "start_time": "2022-06-03T10:29:28.152Z"
   },
   {
    "duration": 11,
    "start_time": "2022-06-03T10:29:28.470Z"
   },
   {
    "duration": 126,
    "start_time": "2022-06-03T10:29:28.482Z"
   },
   {
    "duration": 4,
    "start_time": "2022-06-03T10:29:28.610Z"
   },
   {
    "duration": 14,
    "start_time": "2022-06-03T10:29:28.615Z"
   },
   {
    "duration": 145,
    "start_time": "2022-06-03T10:29:28.631Z"
   },
   {
    "duration": 5,
    "start_time": "2022-06-03T10:29:28.778Z"
   },
   {
    "duration": 483,
    "start_time": "2022-06-03T10:29:28.784Z"
   },
   {
    "duration": 10,
    "start_time": "2022-06-03T10:29:29.268Z"
   },
   {
    "duration": 10,
    "start_time": "2022-06-03T10:29:29.279Z"
   },
   {
    "duration": 33,
    "start_time": "2022-06-03T10:29:29.290Z"
   },
   {
    "duration": 35,
    "start_time": "2022-06-03T10:29:29.324Z"
   },
   {
    "duration": 1487,
    "start_time": "2022-06-04T03:32:47.843Z"
   },
   {
    "duration": 3,
    "start_time": "2022-06-04T03:32:49.333Z"
   },
   {
    "duration": 16,
    "start_time": "2022-06-04T03:32:49.338Z"
   },
   {
    "duration": 234,
    "start_time": "2022-06-04T03:32:49.358Z"
   },
   {
    "duration": 13,
    "start_time": "2022-06-04T03:32:49.594Z"
   },
   {
    "duration": 12,
    "start_time": "2022-06-04T03:32:49.609Z"
   },
   {
    "duration": 27,
    "start_time": "2022-06-04T03:32:49.623Z"
   },
   {
    "duration": 13,
    "start_time": "2022-06-04T03:32:49.652Z"
   },
   {
    "duration": 31,
    "start_time": "2022-06-04T03:32:49.667Z"
   },
   {
    "duration": 8,
    "start_time": "2022-06-04T03:32:49.701Z"
   },
   {
    "duration": 16,
    "start_time": "2022-06-04T03:32:49.711Z"
   },
   {
    "duration": 29,
    "start_time": "2022-06-04T03:32:49.729Z"
   },
   {
    "duration": 7,
    "start_time": "2022-06-04T03:32:49.761Z"
   },
   {
    "duration": 28,
    "start_time": "2022-06-04T03:32:49.770Z"
   },
   {
    "duration": 18,
    "start_time": "2022-06-04T03:32:49.800Z"
   },
   {
    "duration": 16,
    "start_time": "2022-06-04T03:32:49.820Z"
   },
   {
    "duration": 414,
    "start_time": "2022-06-04T03:32:49.858Z"
   },
   {
    "duration": 340,
    "start_time": "2022-06-04T03:32:50.274Z"
   },
   {
    "duration": 217,
    "start_time": "2022-06-04T03:32:50.615Z"
   },
   {
    "duration": 411,
    "start_time": "2022-06-04T03:32:50.834Z"
   },
   {
    "duration": 233,
    "start_time": "2022-06-04T03:32:51.247Z"
   },
   {
    "duration": 481,
    "start_time": "2022-06-04T03:32:51.482Z"
   },
   {
    "duration": 16,
    "start_time": "2022-06-04T03:32:51.965Z"
   },
   {
    "duration": 284,
    "start_time": "2022-06-04T03:32:51.982Z"
   },
   {
    "duration": 6,
    "start_time": "2022-06-04T03:32:52.269Z"
   },
   {
    "duration": 14,
    "start_time": "2022-06-04T03:32:52.277Z"
   },
   {
    "duration": 311,
    "start_time": "2022-06-04T03:32:52.292Z"
   },
   {
    "duration": 6,
    "start_time": "2022-06-04T03:32:52.605Z"
   },
   {
    "duration": 1351,
    "start_time": "2022-06-04T03:32:52.612Z"
   },
   {
    "duration": 16,
    "start_time": "2022-06-04T03:32:53.965Z"
   },
   {
    "duration": 11,
    "start_time": "2022-06-04T03:32:53.983Z"
   },
   {
    "duration": 35,
    "start_time": "2022-06-04T03:32:53.996Z"
   },
   {
    "duration": 46,
    "start_time": "2022-06-04T03:32:54.033Z"
   },
   {
    "duration": 65,
    "start_time": "2022-06-06T05:17:22.679Z"
   },
   {
    "duration": 1384,
    "start_time": "2022-06-06T05:17:32.944Z"
   },
   {
    "duration": 3,
    "start_time": "2022-06-06T05:17:34.331Z"
   },
   {
    "duration": 28,
    "start_time": "2022-06-06T05:17:34.335Z"
   },
   {
    "duration": 10,
    "start_time": "2022-06-06T05:17:34.364Z"
   },
   {
    "duration": 0,
    "start_time": "2022-06-06T05:17:34.376Z"
   },
   {
    "duration": 0,
    "start_time": "2022-06-06T05:17:34.378Z"
   },
   {
    "duration": 0,
    "start_time": "2022-06-06T05:17:34.379Z"
   },
   {
    "duration": 0,
    "start_time": "2022-06-06T05:17:34.380Z"
   },
   {
    "duration": 0,
    "start_time": "2022-06-06T05:17:34.382Z"
   },
   {
    "duration": 0,
    "start_time": "2022-06-06T05:17:34.383Z"
   },
   {
    "duration": 0,
    "start_time": "2022-06-06T05:17:34.384Z"
   },
   {
    "duration": 0,
    "start_time": "2022-06-06T05:17:34.385Z"
   },
   {
    "duration": 0,
    "start_time": "2022-06-06T05:17:34.386Z"
   },
   {
    "duration": 0,
    "start_time": "2022-06-06T05:17:34.387Z"
   },
   {
    "duration": 0,
    "start_time": "2022-06-06T05:17:34.388Z"
   },
   {
    "duration": 0,
    "start_time": "2022-06-06T05:17:34.390Z"
   },
   {
    "duration": 0,
    "start_time": "2022-06-06T05:17:34.391Z"
   },
   {
    "duration": 0,
    "start_time": "2022-06-06T05:17:34.392Z"
   },
   {
    "duration": 0,
    "start_time": "2022-06-06T05:17:34.393Z"
   },
   {
    "duration": 0,
    "start_time": "2022-06-06T05:17:34.394Z"
   },
   {
    "duration": 0,
    "start_time": "2022-06-06T05:17:34.396Z"
   },
   {
    "duration": 0,
    "start_time": "2022-06-06T05:17:34.397Z"
   },
   {
    "duration": 0,
    "start_time": "2022-06-06T05:17:34.398Z"
   },
   {
    "duration": 0,
    "start_time": "2022-06-06T05:17:34.400Z"
   },
   {
    "duration": 0,
    "start_time": "2022-06-06T05:17:34.427Z"
   },
   {
    "duration": 0,
    "start_time": "2022-06-06T05:17:34.429Z"
   },
   {
    "duration": 0,
    "start_time": "2022-06-06T05:17:34.430Z"
   },
   {
    "duration": 0,
    "start_time": "2022-06-06T05:17:34.432Z"
   },
   {
    "duration": 0,
    "start_time": "2022-06-06T05:17:34.433Z"
   },
   {
    "duration": 0,
    "start_time": "2022-06-06T05:17:34.434Z"
   },
   {
    "duration": 0,
    "start_time": "2022-06-06T05:17:34.435Z"
   },
   {
    "duration": 0,
    "start_time": "2022-06-06T05:17:34.436Z"
   },
   {
    "duration": 0,
    "start_time": "2022-06-06T05:17:34.438Z"
   },
   {
    "duration": 0,
    "start_time": "2022-06-06T05:17:34.439Z"
   },
   {
    "duration": 1117,
    "start_time": "2022-06-06T05:17:51.291Z"
   },
   {
    "duration": 3,
    "start_time": "2022-06-06T05:17:52.410Z"
   },
   {
    "duration": 38,
    "start_time": "2022-06-06T05:17:52.415Z"
   },
   {
    "duration": 219,
    "start_time": "2022-06-06T05:17:52.455Z"
   },
   {
    "duration": 14,
    "start_time": "2022-06-06T05:17:52.677Z"
   },
   {
    "duration": 6,
    "start_time": "2022-06-06T05:17:52.693Z"
   },
   {
    "duration": 20,
    "start_time": "2022-06-06T05:17:52.727Z"
   },
   {
    "duration": 13,
    "start_time": "2022-06-06T05:17:52.749Z"
   },
   {
    "duration": 65,
    "start_time": "2022-06-06T05:17:52.764Z"
   },
   {
    "duration": 6,
    "start_time": "2022-06-06T05:17:52.832Z"
   },
   {
    "duration": 51,
    "start_time": "2022-06-06T05:17:52.840Z"
   },
   {
    "duration": 80,
    "start_time": "2022-06-06T05:17:52.893Z"
   },
   {
    "duration": 53,
    "start_time": "2022-06-06T05:17:52.975Z"
   },
   {
    "duration": 72,
    "start_time": "2022-06-06T05:17:53.030Z"
   },
   {
    "duration": 21,
    "start_time": "2022-06-06T05:17:53.131Z"
   },
   {
    "duration": 16,
    "start_time": "2022-06-06T05:17:53.154Z"
   },
   {
    "duration": 888,
    "start_time": "2022-06-06T05:17:53.172Z"
   },
   {
    "duration": 644,
    "start_time": "2022-06-06T05:17:54.062Z"
   },
   {
    "duration": 241,
    "start_time": "2022-06-06T05:17:54.707Z"
   },
   {
    "duration": 504,
    "start_time": "2022-06-06T05:17:54.950Z"
   },
   {
    "duration": 396,
    "start_time": "2022-06-06T05:17:55.456Z"
   },
   {
    "duration": 577,
    "start_time": "2022-06-06T05:17:55.854Z"
   },
   {
    "duration": 15,
    "start_time": "2022-06-06T05:17:56.433Z"
   },
   {
    "duration": 318,
    "start_time": "2022-06-06T05:17:56.451Z"
   },
   {
    "duration": 5,
    "start_time": "2022-06-06T05:17:56.826Z"
   },
   {
    "duration": 18,
    "start_time": "2022-06-06T05:17:56.833Z"
   },
   {
    "duration": 293,
    "start_time": "2022-06-06T05:17:56.853Z"
   },
   {
    "duration": 5,
    "start_time": "2022-06-06T05:17:57.150Z"
   },
   {
    "duration": 530,
    "start_time": "2022-06-06T05:17:57.157Z"
   },
   {
    "duration": 12,
    "start_time": "2022-06-06T05:17:57.688Z"
   },
   {
    "duration": 26,
    "start_time": "2022-06-06T05:17:57.702Z"
   },
   {
    "duration": 32,
    "start_time": "2022-06-06T05:17:57.730Z"
   },
   {
    "duration": 13,
    "start_time": "2022-06-06T05:17:57.764Z"
   },
   {
    "duration": 15,
    "start_time": "2022-06-06T05:19:34.663Z"
   },
   {
    "duration": 7,
    "start_time": "2022-06-06T06:12:51.206Z"
   },
   {
    "duration": 6,
    "start_time": "2022-06-06T06:13:04.593Z"
   },
   {
    "duration": 112,
    "start_time": "2022-06-06T06:14:36.616Z"
   },
   {
    "duration": 14,
    "start_time": "2022-06-06T06:14:46.187Z"
   },
   {
    "duration": 39,
    "start_time": "2022-06-06T06:18:16.111Z"
   },
   {
    "duration": 20,
    "start_time": "2022-06-06T06:22:38.176Z"
   },
   {
    "duration": 24,
    "start_time": "2022-06-06T06:23:03.671Z"
   },
   {
    "duration": 40,
    "start_time": "2022-06-06T06:25:43.627Z"
   },
   {
    "duration": 9,
    "start_time": "2022-06-06T06:26:25.744Z"
   },
   {
    "duration": 24,
    "start_time": "2022-06-06T06:27:17.780Z"
   },
   {
    "duration": 22,
    "start_time": "2022-06-06T06:27:53.686Z"
   },
   {
    "duration": 7,
    "start_time": "2022-06-06T06:28:13.967Z"
   },
   {
    "duration": 4,
    "start_time": "2022-06-06T06:30:04.303Z"
   },
   {
    "duration": 5,
    "start_time": "2022-06-06T06:30:14.880Z"
   },
   {
    "duration": 4,
    "start_time": "2022-06-06T06:30:32.472Z"
   },
   {
    "duration": 4,
    "start_time": "2022-06-06T06:30:52.348Z"
   },
   {
    "duration": 15,
    "start_time": "2022-06-06T06:41:07.481Z"
   },
   {
    "duration": 18,
    "start_time": "2022-06-06T06:41:23.587Z"
   },
   {
    "duration": 4,
    "start_time": "2022-06-06T06:49:29.563Z"
   },
   {
    "duration": 5,
    "start_time": "2022-06-06T06:49:38.253Z"
   },
   {
    "duration": 5,
    "start_time": "2022-06-06T06:49:52.825Z"
   },
   {
    "duration": 9,
    "start_time": "2022-06-06T06:50:56.469Z"
   },
   {
    "duration": 9,
    "start_time": "2022-06-06T07:04:32.682Z"
   },
   {
    "duration": 31,
    "start_time": "2022-06-06T07:05:50.052Z"
   },
   {
    "duration": 40,
    "start_time": "2022-06-06T07:06:12.219Z"
   },
   {
    "duration": 31,
    "start_time": "2022-06-06T07:06:49.810Z"
   },
   {
    "duration": 10,
    "start_time": "2022-06-06T09:54:40.474Z"
   },
   {
    "duration": 9,
    "start_time": "2022-06-06T09:54:57.365Z"
   },
   {
    "duration": 50,
    "start_time": "2022-06-06T09:56:19.270Z"
   },
   {
    "duration": 8,
    "start_time": "2022-06-06T09:56:30.724Z"
   },
   {
    "duration": 9,
    "start_time": "2022-06-06T09:56:50.716Z"
   },
   {
    "duration": 1302,
    "start_time": "2022-06-06T10:02:14.258Z"
   },
   {
    "duration": 4,
    "start_time": "2022-06-06T10:02:15.562Z"
   },
   {
    "duration": 28,
    "start_time": "2022-06-06T10:02:15.567Z"
   },
   {
    "duration": 111,
    "start_time": "2022-06-06T10:02:15.597Z"
   },
   {
    "duration": 11,
    "start_time": "2022-06-06T10:02:15.711Z"
   },
   {
    "duration": 32,
    "start_time": "2022-06-06T10:02:15.724Z"
   },
   {
    "duration": 34,
    "start_time": "2022-06-06T10:02:15.758Z"
   },
   {
    "duration": 25,
    "start_time": "2022-06-06T10:02:15.794Z"
   },
   {
    "duration": 34,
    "start_time": "2022-06-06T10:02:15.821Z"
   },
   {
    "duration": 30,
    "start_time": "2022-06-06T10:02:15.857Z"
   },
   {
    "duration": 12,
    "start_time": "2022-06-06T10:02:15.889Z"
   },
   {
    "duration": 13,
    "start_time": "2022-06-06T10:02:15.903Z"
   },
   {
    "duration": 16,
    "start_time": "2022-06-06T10:02:15.918Z"
   },
   {
    "duration": 46,
    "start_time": "2022-06-06T10:02:15.937Z"
   },
   {
    "duration": 108,
    "start_time": "2022-06-06T10:02:15.985Z"
   },
   {
    "duration": 14,
    "start_time": "2022-06-06T10:02:16.095Z"
   },
   {
    "duration": 22,
    "start_time": "2022-06-06T10:02:16.111Z"
   },
   {
    "duration": 45,
    "start_time": "2022-06-06T10:02:16.134Z"
   },
   {
    "duration": 57,
    "start_time": "2022-06-06T10:02:16.181Z"
   },
   {
    "duration": 39,
    "start_time": "2022-06-06T10:02:16.240Z"
   },
   {
    "duration": 20,
    "start_time": "2022-06-06T10:02:16.282Z"
   },
   {
    "duration": 37,
    "start_time": "2022-06-06T10:02:16.303Z"
   },
   {
    "duration": 50,
    "start_time": "2022-06-06T10:02:16.343Z"
   },
   {
    "duration": 428,
    "start_time": "2022-06-06T10:02:16.395Z"
   },
   {
    "duration": 342,
    "start_time": "2022-06-06T10:02:16.827Z"
   },
   {
    "duration": 220,
    "start_time": "2022-06-06T10:02:17.172Z"
   },
   {
    "duration": 328,
    "start_time": "2022-06-06T10:02:17.394Z"
   },
   {
    "duration": 195,
    "start_time": "2022-06-06T10:02:17.724Z"
   },
   {
    "duration": 324,
    "start_time": "2022-06-06T10:02:17.921Z"
   },
   {
    "duration": 20,
    "start_time": "2022-06-06T10:02:18.247Z"
   },
   {
    "duration": 152,
    "start_time": "2022-06-06T10:02:18.269Z"
   },
   {
    "duration": 9,
    "start_time": "2022-06-06T10:02:18.423Z"
   },
   {
    "duration": 43,
    "start_time": "2022-06-06T10:02:18.434Z"
   },
   {
    "duration": 190,
    "start_time": "2022-06-06T10:02:18.479Z"
   },
   {
    "duration": 5,
    "start_time": "2022-06-06T10:02:18.670Z"
   },
   {
    "duration": 551,
    "start_time": "2022-06-06T10:02:18.677Z"
   },
   {
    "duration": 16,
    "start_time": "2022-06-06T10:02:19.231Z"
   },
   {
    "duration": 44,
    "start_time": "2022-06-06T10:02:19.255Z"
   },
   {
    "duration": 84,
    "start_time": "2022-06-06T10:02:19.300Z"
   },
   {
    "duration": 37,
    "start_time": "2022-06-06T10:02:19.386Z"
   },
   {
    "duration": 137,
    "start_time": "2022-06-06T10:04:50.777Z"
   },
   {
    "duration": 166,
    "start_time": "2022-06-06T10:05:06.705Z"
   },
   {
    "duration": 224,
    "start_time": "2022-06-06T10:05:26.653Z"
   },
   {
    "duration": 164,
    "start_time": "2022-06-06T10:05:55.495Z"
   },
   {
    "duration": 1205,
    "start_time": "2022-06-06T10:06:53.238Z"
   },
   {
    "duration": 8,
    "start_time": "2022-06-06T10:06:54.445Z"
   },
   {
    "duration": 20,
    "start_time": "2022-06-06T10:06:54.454Z"
   },
   {
    "duration": 114,
    "start_time": "2022-06-06T10:06:54.477Z"
   },
   {
    "duration": 12,
    "start_time": "2022-06-06T10:06:54.592Z"
   },
   {
    "duration": 60,
    "start_time": "2022-06-06T10:06:54.606Z"
   },
   {
    "duration": 26,
    "start_time": "2022-06-06T10:06:54.668Z"
   },
   {
    "duration": 32,
    "start_time": "2022-06-06T10:06:54.695Z"
   },
   {
    "duration": 66,
    "start_time": "2022-06-06T10:06:54.728Z"
   },
   {
    "duration": 61,
    "start_time": "2022-06-06T10:06:54.796Z"
   },
   {
    "duration": 46,
    "start_time": "2022-06-06T10:06:54.859Z"
   },
   {
    "duration": 23,
    "start_time": "2022-06-06T10:06:54.907Z"
   },
   {
    "duration": 43,
    "start_time": "2022-06-06T10:06:54.933Z"
   },
   {
    "duration": 25,
    "start_time": "2022-06-06T10:06:54.978Z"
   },
   {
    "duration": 72,
    "start_time": "2022-06-06T10:06:55.005Z"
   },
   {
    "duration": 26,
    "start_time": "2022-06-06T10:06:55.079Z"
   },
   {
    "duration": 45,
    "start_time": "2022-06-06T10:06:55.106Z"
   },
   {
    "duration": 78,
    "start_time": "2022-06-06T10:06:55.155Z"
   },
   {
    "duration": 53,
    "start_time": "2022-06-06T10:06:55.236Z"
   },
   {
    "duration": 39,
    "start_time": "2022-06-06T10:06:55.291Z"
   },
   {
    "duration": 39,
    "start_time": "2022-06-06T10:06:55.331Z"
   },
   {
    "duration": 42,
    "start_time": "2022-06-06T10:06:55.371Z"
   },
   {
    "duration": 27,
    "start_time": "2022-06-06T10:06:55.415Z"
   },
   {
    "duration": 339,
    "start_time": "2022-06-06T10:06:55.446Z"
   },
   {
    "duration": 353,
    "start_time": "2022-06-06T10:06:55.787Z"
   },
   {
    "duration": 216,
    "start_time": "2022-06-06T10:06:56.147Z"
   },
   {
    "duration": 322,
    "start_time": "2022-06-06T10:06:56.368Z"
   },
   {
    "duration": 198,
    "start_time": "2022-06-06T10:06:56.693Z"
   },
   {
    "duration": 360,
    "start_time": "2022-06-06T10:06:56.893Z"
   },
   {
    "duration": 13,
    "start_time": "2022-06-06T10:06:57.256Z"
   },
   {
    "duration": 167,
    "start_time": "2022-06-06T10:06:57.271Z"
   },
   {
    "duration": 7,
    "start_time": "2022-06-06T10:06:57.449Z"
   },
   {
    "duration": 40,
    "start_time": "2022-06-06T10:06:57.458Z"
   },
   {
    "duration": 172,
    "start_time": "2022-06-06T10:06:57.500Z"
   },
   {
    "duration": 161,
    "start_time": "2022-06-06T10:06:57.674Z"
   },
   {
    "duration": 15,
    "start_time": "2022-06-06T10:06:57.841Z"
   },
   {
    "duration": 507,
    "start_time": "2022-06-06T10:06:57.858Z"
   },
   {
    "duration": 10,
    "start_time": "2022-06-06T10:06:58.366Z"
   },
   {
    "duration": 11,
    "start_time": "2022-06-06T10:06:58.378Z"
   },
   {
    "duration": 76,
    "start_time": "2022-06-06T10:06:58.391Z"
   },
   {
    "duration": 14,
    "start_time": "2022-06-06T10:06:58.469Z"
   },
   {
    "duration": 543,
    "start_time": "2022-06-06T10:43:01.857Z"
   },
   {
    "duration": 12,
    "start_time": "2022-06-06T10:43:07.185Z"
   },
   {
    "duration": 11,
    "start_time": "2022-06-06T10:43:11.344Z"
   },
   {
    "duration": 39,
    "start_time": "2022-06-06T10:43:15.556Z"
   },
   {
    "duration": 15,
    "start_time": "2022-06-06T10:43:21.545Z"
   },
   {
    "duration": 243,
    "start_time": "2022-06-06T10:55:46.185Z"
   },
   {
    "duration": 151,
    "start_time": "2022-06-06T10:55:47.294Z"
   },
   {
    "duration": 45,
    "start_time": "2022-06-06T10:55:48.160Z"
   },
   {
    "duration": 451,
    "start_time": "2022-06-06T11:01:28.728Z"
   },
   {
    "duration": 11,
    "start_time": "2022-06-06T11:01:55.646Z"
   },
   {
    "duration": 12,
    "start_time": "2022-06-06T11:02:08.000Z"
   },
   {
    "duration": 38,
    "start_time": "2022-06-06T11:02:33.082Z"
   },
   {
    "duration": 12,
    "start_time": "2022-06-06T11:02:57.714Z"
   },
   {
    "duration": 12,
    "start_time": "2022-06-06T11:03:05.709Z"
   },
   {
    "duration": 39,
    "start_time": "2022-06-06T11:03:18.339Z"
   },
   {
    "duration": 17,
    "start_time": "2022-06-06T11:04:18.158Z"
   },
   {
    "duration": 1177,
    "start_time": "2022-06-06T11:05:40.733Z"
   },
   {
    "duration": 2,
    "start_time": "2022-06-06T11:05:41.912Z"
   },
   {
    "duration": 11,
    "start_time": "2022-06-06T11:05:41.916Z"
   },
   {
    "duration": 80,
    "start_time": "2022-06-06T11:05:41.929Z"
   },
   {
    "duration": 17,
    "start_time": "2022-06-06T11:05:42.011Z"
   },
   {
    "duration": 5,
    "start_time": "2022-06-06T11:05:42.030Z"
   },
   {
    "duration": 33,
    "start_time": "2022-06-06T11:05:42.037Z"
   },
   {
    "duration": 29,
    "start_time": "2022-06-06T11:05:42.072Z"
   },
   {
    "duration": 23,
    "start_time": "2022-06-06T11:05:42.103Z"
   },
   {
    "duration": 8,
    "start_time": "2022-06-06T11:05:42.128Z"
   },
   {
    "duration": 11,
    "start_time": "2022-06-06T11:05:42.137Z"
   },
   {
    "duration": 12,
    "start_time": "2022-06-06T11:05:42.150Z"
   },
   {
    "duration": 7,
    "start_time": "2022-06-06T11:05:42.163Z"
   },
   {
    "duration": 16,
    "start_time": "2022-06-06T11:05:42.172Z"
   },
   {
    "duration": 38,
    "start_time": "2022-06-06T11:05:42.189Z"
   },
   {
    "duration": 87,
    "start_time": "2022-06-06T11:05:42.229Z"
   },
   {
    "duration": 5,
    "start_time": "2022-06-06T11:05:42.328Z"
   },
   {
    "duration": 18,
    "start_time": "2022-06-06T11:05:42.335Z"
   },
   {
    "duration": 19,
    "start_time": "2022-06-06T11:05:42.354Z"
   },
   {
    "duration": 7,
    "start_time": "2022-06-06T11:05:42.375Z"
   },
   {
    "duration": 10,
    "start_time": "2022-06-06T11:05:42.383Z"
   },
   {
    "duration": 25,
    "start_time": "2022-06-06T11:05:42.394Z"
   },
   {
    "duration": 12,
    "start_time": "2022-06-06T11:05:42.421Z"
   },
   {
    "duration": 317,
    "start_time": "2022-06-06T11:05:42.435Z"
   },
   {
    "duration": 317,
    "start_time": "2022-06-06T11:05:42.754Z"
   },
   {
    "duration": 197,
    "start_time": "2022-06-06T11:05:43.072Z"
   },
   {
    "duration": 301,
    "start_time": "2022-06-06T11:05:43.271Z"
   },
   {
    "duration": 185,
    "start_time": "2022-06-06T11:05:43.575Z"
   },
   {
    "duration": 299,
    "start_time": "2022-06-06T11:05:43.762Z"
   },
   {
    "duration": 12,
    "start_time": "2022-06-06T11:05:44.063Z"
   },
   {
    "duration": 145,
    "start_time": "2022-06-06T11:05:44.076Z"
   },
   {
    "duration": 6,
    "start_time": "2022-06-06T11:05:44.223Z"
   },
   {
    "duration": 16,
    "start_time": "2022-06-06T11:05:44.231Z"
   },
   {
    "duration": 164,
    "start_time": "2022-06-06T11:05:44.248Z"
   },
   {
    "duration": 13,
    "start_time": "2022-06-06T11:05:44.414Z"
   },
   {
    "duration": 216,
    "start_time": "2022-06-06T11:05:44.429Z"
   },
   {
    "duration": 142,
    "start_time": "2022-06-06T11:05:44.647Z"
   },
   {
    "duration": 43,
    "start_time": "2022-06-06T11:05:44.791Z"
   },
   {
    "duration": 15,
    "start_time": "2022-06-06T11:05:44.836Z"
   },
   {
    "duration": 16,
    "start_time": "2022-06-06T11:05:44.854Z"
   },
   {
    "duration": 75,
    "start_time": "2022-06-06T11:05:44.872Z"
   },
   {
    "duration": 19,
    "start_time": "2022-06-06T11:05:44.949Z"
   },
   {
    "duration": 9,
    "start_time": "2022-06-06T11:07:18.855Z"
   },
   {
    "duration": 8,
    "start_time": "2022-06-06T11:09:13.677Z"
   },
   {
    "duration": 1152,
    "start_time": "2022-06-06T11:10:08.371Z"
   },
   {
    "duration": 3,
    "start_time": "2022-06-06T11:10:09.525Z"
   },
   {
    "duration": 5,
    "start_time": "2022-06-06T11:10:09.529Z"
   },
   {
    "duration": 81,
    "start_time": "2022-06-06T11:10:09.536Z"
   },
   {
    "duration": 11,
    "start_time": "2022-06-06T11:10:09.619Z"
   },
   {
    "duration": 7,
    "start_time": "2022-06-06T11:10:09.631Z"
   },
   {
    "duration": 14,
    "start_time": "2022-06-06T11:10:09.639Z"
   },
   {
    "duration": 10,
    "start_time": "2022-06-06T11:10:09.654Z"
   },
   {
    "duration": 16,
    "start_time": "2022-06-06T11:10:09.665Z"
   },
   {
    "duration": 11,
    "start_time": "2022-06-06T11:10:09.683Z"
   },
   {
    "duration": 10,
    "start_time": "2022-06-06T11:10:09.696Z"
   },
   {
    "duration": 10,
    "start_time": "2022-06-06T11:10:09.726Z"
   },
   {
    "duration": 9,
    "start_time": "2022-06-06T11:10:09.738Z"
   },
   {
    "duration": 14,
    "start_time": "2022-06-06T11:10:09.750Z"
   },
   {
    "duration": 97,
    "start_time": "2022-06-06T11:10:09.766Z"
   },
   {
    "duration": 13,
    "start_time": "2022-06-06T11:10:09.865Z"
   },
   {
    "duration": 8,
    "start_time": "2022-06-06T11:10:09.879Z"
   },
   {
    "duration": 13,
    "start_time": "2022-06-06T11:10:09.888Z"
   },
   {
    "duration": 27,
    "start_time": "2022-06-06T11:10:09.902Z"
   },
   {
    "duration": 6,
    "start_time": "2022-06-06T11:10:09.930Z"
   },
   {
    "duration": 15,
    "start_time": "2022-06-06T11:10:09.937Z"
   },
   {
    "duration": 19,
    "start_time": "2022-06-06T11:10:09.953Z"
   },
   {
    "duration": 7,
    "start_time": "2022-06-06T11:10:09.974Z"
   },
   {
    "duration": 332,
    "start_time": "2022-06-06T11:10:09.982Z"
   },
   {
    "duration": 315,
    "start_time": "2022-06-06T11:10:10.316Z"
   },
   {
    "duration": 197,
    "start_time": "2022-06-06T11:10:10.632Z"
   },
   {
    "duration": 332,
    "start_time": "2022-06-06T11:10:10.831Z"
   },
   {
    "duration": 210,
    "start_time": "2022-06-06T11:10:11.166Z"
   },
   {
    "duration": 291,
    "start_time": "2022-06-06T11:10:11.378Z"
   },
   {
    "duration": 12,
    "start_time": "2022-06-06T11:10:11.671Z"
   },
   {
    "duration": 133,
    "start_time": "2022-06-06T11:10:11.684Z"
   },
   {
    "duration": 9,
    "start_time": "2022-06-06T11:10:11.819Z"
   },
   {
    "duration": 14,
    "start_time": "2022-06-06T11:10:11.830Z"
   },
   {
    "duration": 156,
    "start_time": "2022-06-06T11:10:11.846Z"
   },
   {
    "duration": 5,
    "start_time": "2022-06-06T11:10:12.003Z"
   },
   {
    "duration": 228,
    "start_time": "2022-06-06T11:10:12.010Z"
   },
   {
    "duration": 190,
    "start_time": "2022-06-06T11:10:12.239Z"
   },
   {
    "duration": 36,
    "start_time": "2022-06-06T11:10:12.431Z"
   },
   {
    "duration": 10,
    "start_time": "2022-06-06T11:10:12.470Z"
   },
   {
    "duration": 12,
    "start_time": "2022-06-06T11:10:12.481Z"
   },
   {
    "duration": 34,
    "start_time": "2022-06-06T11:10:12.527Z"
   },
   {
    "duration": 14,
    "start_time": "2022-06-06T11:10:12.563Z"
   }
  ],
  "kernelspec": {
   "display_name": "Python 3 (ipykernel)",
   "language": "python",
   "name": "python3"
  },
  "language_info": {
   "codemirror_mode": {
    "name": "ipython",
    "version": 3
   },
   "file_extension": ".py",
   "mimetype": "text/x-python",
   "name": "python",
   "nbconvert_exporter": "python",
   "pygments_lexer": "ipython3",
   "version": "3.9.7"
  },
  "toc": {
   "base_numbering": 1,
   "nav_menu": {},
   "number_sections": true,
   "sideBar": true,
   "skip_h1_title": true,
   "title_cell": "Table of Contents",
   "title_sidebar": "Contents",
   "toc_cell": false,
   "toc_position": {
    "height": "calc(100% - 180px)",
    "left": "10px",
    "top": "150px",
    "width": "270.391px"
   },
   "toc_section_display": true,
   "toc_window_display": true
  }
 },
 "nbformat": 4,
 "nbformat_minor": 2
}
